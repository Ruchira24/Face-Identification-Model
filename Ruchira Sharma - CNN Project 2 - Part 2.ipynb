{
 "cells": [
  {
   "cell_type": "code",
   "execution_count": 1,
   "metadata": {
    "colab": {
     "base_uri": "https://localhost:8080/",
     "height": 35
    },
    "executionInfo": {
     "elapsed": 1798,
     "status": "ok",
     "timestamp": 1622907418882,
     "user": {
      "displayName": "Ruchira S Dwivedi",
      "photoUrl": "",
      "userId": "08004570390284030604"
     },
     "user_tz": -330
    },
    "id": "-UxEMixdpLUG",
    "outputId": "751fffa6-35dd-4df7-a28d-65a41b52eb52"
   },
   "outputs": [
    {
     "data": {
      "application/vnd.google.colaboratory.intrinsic+json": {
       "type": "string"
      },
      "text/plain": [
       "'2.5.0'"
      ]
     },
     "execution_count": 1,
     "metadata": {
      "tags": []
     },
     "output_type": "execute_result"
    }
   ],
   "source": [
    "%tensorflow_version 2.x\n",
    "import tensorflow\n",
    "tensorflow.__version__"
   ]
  },
  {
   "cell_type": "code",
   "execution_count": 2,
   "metadata": {
    "executionInfo": {
     "elapsed": 1403,
     "status": "ok",
     "timestamp": 1622907426582,
     "user": {
      "displayName": "Ruchira S Dwivedi",
      "photoUrl": "",
      "userId": "08004570390284030604"
     },
     "user_tz": -330
    },
    "id": "jXicjqHJqLtM"
   },
   "outputs": [],
   "source": [
    "import sys\n",
    "import numpy as np\n",
    "import pickle\n",
    "import os\n",
    "import matplotlib.pyplot as plt\n",
    "%matplotlib inline\n",
    "\n",
    "import cv2\n",
    "import time\n",
    "import itertools\n",
    "import random\n",
    "\n",
    "from sklearn.utils import shuffle\n",
    "import tensorflow as tf\n",
    "\n",
    "from tensorflow.keras.models import Sequential\n",
    "from tensorflow.keras.optimizers import Adam, RMSprop\n",
    "from tensorflow.keras.layers import Conv2D, ZeroPadding2D, Activation, Input, concatenate, Dropout\n",
    "from tensorflow.keras.models import Model\n",
    "\n",
    "from tensorflow.keras.layers import BatchNormalization\n",
    "from tensorflow.keras.layers import MaxPooling2D\n",
    "from tensorflow.keras.layers import Concatenate\n",
    "from tensorflow.keras.layers import Lambda, Flatten, Dense\n",
    "\n",
    "from tensorflow.keras.layers import Layer\n",
    "from tensorflow.keras.regularizers import l2\n",
    "from tensorflow.keras import backend as K\n",
    "from tensorflow.keras.callbacks import EarlyStopping, ModelCheckpoint, ReduceLROnPlateau"
   ]
  },
  {
   "cell_type": "markdown",
   "metadata": {
    "id": "R8p7iOLLG2tH"
   },
   "source": [
    "# **Step 1- Load the dataset and create the metadata.**\n",
    "\n",
    "\n",
    "\n",
    "\n",
    "\n",
    "\n"
   ]
  },
  {
   "cell_type": "code",
   "execution_count": 3,
   "metadata": {
    "colab": {
     "base_uri": "https://localhost:8080/"
    },
    "executionInfo": {
     "elapsed": 24092,
     "status": "ok",
     "timestamp": 1622907456074,
     "user": {
      "displayName": "Ruchira S Dwivedi",
      "photoUrl": "",
      "userId": "08004570390284030604"
     },
     "user_tz": -330
    },
    "id": "8yrmarwaqLwH",
    "outputId": "24a1b3fb-6716-4446-8b54-097b1ccdf47b"
   },
   "outputs": [
    {
     "name": "stdout",
     "output_type": "stream",
     "text": [
      "Mounted at /content/drive/\n"
     ]
    }
   ],
   "source": [
    "from google.colab import drive\n",
    "\n",
    "drive.mount('/content/drive/')"
   ]
  },
  {
   "cell_type": "code",
   "execution_count": 4,
   "metadata": {
    "executionInfo": {
     "elapsed": 406,
     "status": "ok",
     "timestamp": 1622907461469,
     "user": {
      "displayName": "Ruchira S Dwivedi",
      "photoUrl": "",
      "userId": "08004570390284030604"
     },
     "user_tz": -330
    },
    "id": "H9f604w8qLzf"
   },
   "outputs": [],
   "source": [
    "project_path = \"/content/drive/MyDrive/Mod 9-Computer Vision/Project2/part2/Part 3 - Aligned Face Dataset from Pinterest.zip\""
   ]
  },
  {
   "cell_type": "code",
   "execution_count": 5,
   "metadata": {
    "executionInfo": {
     "elapsed": 17284,
     "status": "ok",
     "timestamp": 1622907481967,
     "user": {
      "displayName": "Ruchira S Dwivedi",
      "photoUrl": "",
      "userId": "08004570390284030604"
     },
     "user_tz": -330
    },
    "id": "RyPFP0HCqL1_"
   },
   "outputs": [],
   "source": [
    "from zipfile import ZipFile\n",
    "\n",
    "with ZipFile(project_path, 'r') as z:\n",
    "  z.extractall()"
   ]
  },
  {
   "cell_type": "code",
   "execution_count": 6,
   "metadata": {
    "colab": {
     "base_uri": "https://localhost:8080/"
    },
    "executionInfo": {
     "elapsed": 409,
     "status": "ok",
     "timestamp": 1622907488616,
     "user": {
      "displayName": "Ruchira S Dwivedi",
      "photoUrl": "",
      "userId": "08004570390284030604"
     },
     "user_tz": -330
    },
    "id": "Hb5NWK4bqL4e",
    "outputId": "6e893ca8-cfd5-4cfa-85ca-9a27d8e2120a"
   },
   "outputs": [
    {
     "name": "stdout",
     "output_type": "stream",
     "text": [
      "drive  pins  PINS  sample_data\n"
     ]
    }
   ],
   "source": [
    "!ls"
   ]
  },
  {
   "cell_type": "code",
   "execution_count": null,
   "metadata": {
    "id": "uWPvvl3KraaW"
   },
   "outputs": [],
   "source": [
    "path=\"./PINS/\""
   ]
  },
  {
   "cell_type": "code",
   "execution_count": null,
   "metadata": {
    "id": "DBpuTj0gq_YB"
   },
   "outputs": [],
   "source": [
    "# Get the list of all directories and sort them\n",
    "dir_list = next(os.walk(path))[1]\n",
    "dir_list.sort()"
   ]
  },
  {
   "cell_type": "code",
   "execution_count": null,
   "metadata": {
    "colab": {
     "base_uri": "https://localhost:8080/"
    },
    "executionInfo": {
     "elapsed": 1015,
     "status": "ok",
     "timestamp": 1621879211594,
     "user": {
      "displayName": "Ruchira S Dwivedi",
      "photoUrl": "",
      "userId": "08004570390284030604"
     },
     "user_tz": -330
    },
    "id": "YQoghKk2q_b9",
    "outputId": "f3351b3d-1dbc-42b2-fed5-a6adadffa15a"
   },
   "outputs": [
    {
     "data": {
      "text/plain": [
       "['pins_Aaron Paul',\n",
       " 'pins_Alvaro Morte',\n",
       " 'pins_Amanda Crew',\n",
       " 'pins_Amaury Nolasco',\n",
       " 'pins_Anna Gunn',\n",
       " 'pins_Benedict Cumberbatch',\n",
       " 'pins_Betsy Brandt',\n",
       " 'pins_Brenton Thwaites',\n",
       " 'pins_Brit Marling',\n",
       " 'pins_Bryan Cranston',\n",
       " 'pins_Caity Lotz',\n",
       " 'pins_Cameron Monaghan',\n",
       " 'pins_Chance Perdomo',\n",
       " 'pins_Chris Evans',\n",
       " 'pins_Chris Pratt',\n",
       " 'pins_Cobie Smulders',\n",
       " 'pins_Danielle Panabaker',\n",
       " 'pins_Dave Franco',\n",
       " 'pins_Dominic Purcell',\n",
       " 'pins_Dwayne Johnson',\n",
       " 'pins_Emilia Clarke',\n",
       " 'pins_Emily Bett Rickards',\n",
       " 'pins_Emma Stone',\n",
       " 'pins_Gwyneth Paltrow',\n",
       " 'pins_Henry Cavil',\n",
       " 'pins_Jason Momoa',\n",
       " 'pins_Jeremy Renner',\n",
       " 'pins_Jesse Eisenberg',\n",
       " 'pins_Jim Parsons',\n",
       " 'pins_Jon Bernthal',\n",
       " 'pins_Josh Radnor',\n",
       " 'pins_Kit Harington',\n",
       " 'pins_Krysten Ritter',\n",
       " 'pins_Kumail Nanjiani',\n",
       " 'pins_Maisie Williams',\n",
       " 'pins_Mark Ruffalo',\n",
       " 'pins_Martin Starr',\n",
       " 'pins_Melissa benoit',\n",
       " 'pins_Mike Colter',\n",
       " 'pins_Morena Baccarin',\n",
       " 'pins_Morgan Freeman',\n",
       " 'pins_Natalie Portman ',\n",
       " 'pins_Neil Patrick Harris',\n",
       " 'pins_Paul Rudd',\n",
       " 'pins_Pedro Alonso',\n",
       " 'pins_Peter Dinklage',\n",
       " 'pins_RJ Mitte',\n",
       " 'pins_Rami Melek',\n",
       " 'pins_Robert Knepper',\n",
       " 'pins_Robin Taylor',\n",
       " 'pins_Ryan Reynolds',\n",
       " 'pins_Sarah Wayne Callies',\n",
       " 'pins_Scarlett Johansson',\n",
       " 'pins_Sebastian Stan',\n",
       " 'pins_Sophie Turner',\n",
       " 'pins_Stephen Amell',\n",
       " 'pins_Sundar Pichai',\n",
       " 'pins_Thomas Middleditch',\n",
       " 'pins_Tom Cavanagh',\n",
       " 'pins_Ursula Corbero',\n",
       " 'pins_Wentworth Miller',\n",
       " 'pins_Willa Holland',\n",
       " 'pins_William Fichtner',\n",
       " 'pins_alexandra daddario',\n",
       " 'pins_alycia debnam carey face',\n",
       " 'pins_amber heard face',\n",
       " 'pins_anne hathaway',\n",
       " 'pins_barbara palvin face',\n",
       " 'pins_bellamy blake face',\n",
       " 'pins_bill gates',\n",
       " 'pins_brie larson',\n",
       " 'pins_chadwick boseman face',\n",
       " 'pins_david mazouz',\n",
       " 'pins_drake',\n",
       " 'pins_dua lipa face',\n",
       " 'pins_eliza taylor',\n",
       " 'pins_elizabeth olsen face',\n",
       " 'pins_elon musk',\n",
       " 'pins_emma watson face',\n",
       " 'pins_gal gadot face',\n",
       " 'pins_grant gustin face',\n",
       " 'pins_jason isaacs',\n",
       " 'pins_jeff bezos',\n",
       " 'pins_kiernan shipka ',\n",
       " 'pins_kristen stewart face',\n",
       " 'pins_lindsey morgan face',\n",
       " 'pins_margot robbie face',\n",
       " 'pins_maria pedraza',\n",
       " 'pins_mark zuckerberg',\n",
       " 'pins_miguel herran',\n",
       " 'pins_millie bobby brown',\n",
       " 'pins_rihanna',\n",
       " 'pins_robert downey jr face',\n",
       " 'pins_sean pertwee',\n",
       " 'pins_selena gomez',\n",
       " 'pins_shakira',\n",
       " 'pins_tati gabrielle',\n",
       " 'pins_taylor swift',\n",
       " 'pins_tom holland face',\n",
       " 'pins_zendaya']"
      ]
     },
     "execution_count": 34,
     "metadata": {
      "tags": []
     },
     "output_type": "execute_result"
    }
   ],
   "source": [
    "dir_list"
   ]
  },
  {
   "cell_type": "code",
   "execution_count": null,
   "metadata": {
    "colab": {
     "base_uri": "https://localhost:8080/"
    },
    "executionInfo": {
     "elapsed": 319,
     "status": "ok",
     "timestamp": 1621878232320,
     "user": {
      "displayName": "Ruchira S Dwivedi",
      "photoUrl": "",
      "userId": "08004570390284030604"
     },
     "user_tz": -330
    },
    "id": "-LHsH6Dmsm2P",
    "outputId": "2e153c94-db72-4ef7-ad22-a5a790209438"
   },
   "outputs": [
    {
     "data": {
      "text/plain": [
       "100"
      ]
     },
     "execution_count": 11,
     "metadata": {
      "tags": []
     },
     "output_type": "execute_result"
    }
   ],
   "source": [
    "len(dir_list)"
   ]
  },
  {
   "cell_type": "markdown",
   "metadata": {
    "id": "AkuUEtMLbp83"
   },
   "source": [
    "## **Preparing y_train (labels)** "
   ]
  },
  {
   "cell_type": "code",
   "execution_count": null,
   "metadata": {
    "colab": {
     "base_uri": "https://localhost:8080/"
    },
    "executionInfo": {
     "elapsed": 315,
     "status": "ok",
     "timestamp": 1621878545588,
     "user": {
      "displayName": "Ruchira S Dwivedi",
      "photoUrl": "",
      "userId": "08004570390284030604"
     },
     "user_tz": -330
    },
    "id": "KHJURfBRbpe4",
    "outputId": "c19034f4-b6b5-44d9-806d-a32200248a0e"
   },
   "outputs": [
    {
     "name": "stdout",
     "output_type": "stream",
     "text": [
      "['Aaron Paul', 'Alvaro Morte', 'Amanda Crew', 'Amaury Nolasco', 'Anna Gunn', 'Benedict Cumberbatch', 'Betsy Brandt', 'Brenton Thwaites', 'Brit Marling', 'Bryan Cranston', 'Caity Lotz', 'Cameron Monaghan', 'Chance Perdomo', 'Chris Evans', 'Chris Pratt', 'Cobie Smulders', 'Danielle Panabaker', 'Dave Franco', 'Dominic Purcell', 'Dwayne Johnson', 'Emilia Clarke', 'Emily Bett Rickards', 'Emma Stone', 'Gwyneth Paltrow', 'Henry Cavil', 'Jason Momoa', 'Jeremy Renner', 'Jesse Eisenberg', 'Jim Parsons', 'Jon Bernthal', 'Josh Radnor', 'Kit Harington', 'Krysten Ritter', 'Kumail Nanjiani', 'Maisie Williams', 'Mark Ruffalo', 'Martin Starr', 'Melissa benoit', 'Mike Colter', 'Morena Baccarin', 'Morgan Freeman', 'Natalie Portman ', 'Neil Patrick Harris', 'Paul Rudd', 'Pedro Alonso', 'Peter Dinklage', 'RJ Mitte', 'Rami Melek', 'Robert Knepper', 'Robin Taylor', 'Ryan Reynolds', 'Sarah Wayne Callies', 'Scarlett Johansson', 'Sebastian Stan', 'Sophie Turner', 'Stephen Amell', 'Sundar Pichai', 'Thomas Middleditch', 'Tom Cavanagh', 'Ursula Corbero', 'Wentworth Miller', 'Willa Holland', 'William Fichtner', 'alexandra daddario', 'alycia debnam carey face', 'amber heard face', 'anne hathaway', 'barbara palvin face', 'bellamy blake face', 'bill gates', 'brie larson', 'chadwick boseman face', 'david mazouz', 'drake', 'dua lipa face', 'eliza taylor', 'elizabeth olsen face', 'elon musk', 'emma watson face', 'gal gadot face', 'grant gustin face', 'jason isaacs', 'jeff bezos', 'kiernan shipka ', 'kristen stewart face', 'lindsey morgan face', 'margot robbie face', 'maria pedraza', 'mark zuckerberg', 'miguel herran', 'millie bobby brown', 'rihanna', 'robert downey jr face', 'sean pertwee', 'selena gomez', 'shakira', 'tati gabrielle', 'taylor swift', 'tom holland face', 'zendaya']\n"
     ]
    }
   ],
   "source": [
    "Labels=[]\n",
    "for i in range (len(dir_list)):\n",
    "  temp=dir_list[i]\n",
    "  name=temp.split('_')\n",
    "  lab=name[-1]\n",
    "  Labels.append(lab)\n",
    "print(Labels)"
   ]
  },
  {
   "cell_type": "code",
   "execution_count": null,
   "metadata": {
    "id": "6umC_qonR5ci"
   },
   "outputs": [],
   "source": [
    "y_train=[]\n",
    "i=0\n",
    "for i in range(len(dir_list)):\n",
    "  images=os.listdir(path+dir_list[i]) \n",
    "  for img in images:\n",
    "    y_train.append(i)\n",
    "  i=i+1\n"
   ]
  },
  {
   "cell_type": "code",
   "execution_count": null,
   "metadata": {
    "colab": {
     "base_uri": "https://localhost:8080/"
    },
    "executionInfo": {
     "elapsed": 6,
     "status": "ok",
     "timestamp": 1621878268295,
     "user": {
      "displayName": "Ruchira S Dwivedi",
      "photoUrl": "",
      "userId": "08004570390284030604"
     },
     "user_tz": -330
    },
    "id": "kPjbijDolB46",
    "outputId": "4f97bd52-0b0d-4176-d298-709966718f65"
   },
   "outputs": [
    {
     "data": {
      "text/plain": [
       "10770"
      ]
     },
     "execution_count": 15,
     "metadata": {
      "tags": []
     },
     "output_type": "execute_result"
    }
   ],
   "source": [
    "len(y_train)"
   ]
  },
  {
   "cell_type": "code",
   "execution_count": null,
   "metadata": {
    "colab": {
     "base_uri": "https://localhost:8080/"
    },
    "executionInfo": {
     "elapsed": 303,
     "status": "ok",
     "timestamp": 1621878278891,
     "user": {
      "displayName": "Ruchira S Dwivedi",
      "photoUrl": "",
      "userId": "08004570390284030604"
     },
     "user_tz": -330
    },
    "id": "xmBl0mnylH-y",
    "outputId": "d8521c72-8ce6-4fd0-a4f5-4731ef070410"
   },
   "outputs": [
    {
     "data": {
      "text/plain": [
       "array([ 0,  1,  2,  3,  4,  5,  6,  7,  8,  9, 10, 11, 12, 13, 14, 15, 16,\n",
       "       17, 18, 19, 20, 21, 22, 23, 24, 25, 26, 27, 28, 29, 30, 31, 32, 33,\n",
       "       34, 35, 36, 37, 38, 39, 40, 41, 42, 43, 44, 45, 46, 47, 48, 49, 50,\n",
       "       51, 52, 53, 54, 55, 56, 57, 58, 59, 60, 61, 62, 63, 64, 65, 66, 67,\n",
       "       68, 69, 70, 71, 72, 73, 74, 75, 76, 77, 78, 79, 80, 81, 82, 83, 84,\n",
       "       85, 86, 87, 88, 89, 90, 91, 92, 93, 94, 95, 96, 97, 98, 99])"
      ]
     },
     "execution_count": 17,
     "metadata": {
      "tags": []
     },
     "output_type": "execute_result"
    }
   ],
   "source": [
    "np.unique(y_train)"
   ]
  },
  {
   "cell_type": "markdown",
   "metadata": {
    "id": "K3OG7CphWnmI"
   },
   "source": [
    "## **Preparing x_train**"
   ]
  },
  {
   "cell_type": "code",
   "execution_count": null,
   "metadata": {
    "id": "8MF1xgK_Wnzj"
   },
   "outputs": [],
   "source": [
    "import numpy as np\n",
    "import matplotlib.pyplot as plt\n",
    "import cv2\n",
    "\n",
    "x_train=[]\n",
    "for i in range(len(dir_list)):\n",
    "  images=os.listdir(path+dir_list[i])\n",
    "  for ii in images:\n",
    "    image = cv2.imread(path+dir_list[i]+'/'+ii)\n",
    "    x_train.append(image)"
   ]
  },
  {
   "cell_type": "code",
   "execution_count": null,
   "metadata": {
    "colab": {
     "base_uri": "https://localhost:8080/"
    },
    "executionInfo": {
     "elapsed": 316,
     "status": "ok",
     "timestamp": 1621878303451,
     "user": {
      "displayName": "Ruchira S Dwivedi",
      "photoUrl": "",
      "userId": "08004570390284030604"
     },
     "user_tz": -330
    },
    "id": "9hWRlnVmXifm",
    "outputId": "fdd94946-d074-4794-8837-e7250c05ebd5"
   },
   "outputs": [
    {
     "data": {
      "text/plain": [
       "(10770, 10770)"
      ]
     },
     "execution_count": 19,
     "metadata": {
      "tags": []
     },
     "output_type": "execute_result"
    }
   ],
   "source": [
    "len(x_train),len(y_train)"
   ]
  },
  {
   "cell_type": "markdown",
   "metadata": {
    "id": "LQw_pxIoG6Nq"
   },
   "source": [
    "# **Step 2- Check some samples of metadata.**"
   ]
  },
  {
   "cell_type": "code",
   "execution_count": null,
   "metadata": {
    "colab": {
     "base_uri": "https://localhost:8080/"
    },
    "executionInfo": {
     "elapsed": 595,
     "status": "ok",
     "timestamp": 1621878316292,
     "user": {
      "displayName": "Ruchira S Dwivedi",
      "photoUrl": "",
      "userId": "08004570390284030604"
     },
     "user_tz": -330
    },
    "id": "ZOAjiXHAZzW0",
    "outputId": "272291d6-569c-4a31-eaa9-72844341c8ef"
   },
   "outputs": [
    {
     "name": "stdout",
     "output_type": "stream",
     "text": [
      "['Aaron Paul', 'Alvaro Morte', 'Amanda Crew', 'Amaury Nolasco', 'Anna Gunn', 'Benedict Cumberbatch', 'Betsy Brandt', 'Brenton Thwaites', 'Brit Marling', 'Bryan Cranston', 'Caity Lotz', 'Cameron Monaghan', 'Chance Perdomo', 'Chris Evans', 'Chris Pratt', 'Cobie Smulders', 'Danielle Panabaker', 'Dave Franco', 'Dominic Purcell', 'Dwayne Johnson', 'Emilia Clarke', 'Emily Bett Rickards', 'Emma Stone', 'Gwyneth Paltrow', 'Henry Cavil', 'Jason Momoa', 'Jeremy Renner', 'Jesse Eisenberg', 'Jim Parsons', 'Jon Bernthal', 'Josh Radnor', 'Kit Harington', 'Krysten Ritter', 'Kumail Nanjiani', 'Maisie Williams', 'Mark Ruffalo', 'Martin Starr', 'Melissa benoit', 'Mike Colter', 'Morena Baccarin', 'Morgan Freeman', 'Natalie Portman ', 'Neil Patrick Harris', 'Paul Rudd', 'Pedro Alonso', 'Peter Dinklage', 'RJ Mitte', 'Rami Melek', 'Robert Knepper', 'Robin Taylor', 'Ryan Reynolds', 'Sarah Wayne Callies', 'Scarlett Johansson', 'Sebastian Stan', 'Sophie Turner', 'Stephen Amell', 'Sundar Pichai', 'Thomas Middleditch', 'Tom Cavanagh', 'Ursula Corbero', 'Wentworth Miller', 'Willa Holland', 'William Fichtner', 'alexandra daddario', 'alycia debnam carey face', 'amber heard face', 'anne hathaway', 'barbara palvin face', 'bellamy blake face', 'bill gates', 'brie larson', 'chadwick boseman face', 'david mazouz', 'drake', 'dua lipa face', 'eliza taylor', 'elizabeth olsen face', 'elon musk', 'emma watson face', 'gal gadot face', 'grant gustin face', 'jason isaacs', 'jeff bezos', 'kiernan shipka ', 'kristen stewart face', 'lindsey morgan face', 'margot robbie face', 'maria pedraza', 'mark zuckerberg', 'miguel herran', 'millie bobby brown', 'rihanna', 'robert downey jr face', 'sean pertwee', 'selena gomez', 'shakira', 'tati gabrielle', 'taylor swift', 'tom holland face', 'zendaya']\n"
     ]
    }
   ],
   "source": [
    "print(Labels)"
   ]
  },
  {
   "cell_type": "code",
   "execution_count": null,
   "metadata": {
    "colab": {
     "base_uri": "https://localhost:8080/",
     "height": 286
    },
    "executionInfo": {
     "elapsed": 678,
     "status": "ok",
     "timestamp": 1621878319419,
     "user": {
      "displayName": "Ruchira S Dwivedi",
      "photoUrl": "",
      "userId": "08004570390284030604"
     },
     "user_tz": -330
    },
    "id": "D8asKjExYzBD",
    "outputId": "bc0afd47-23da-4ae3-b3c7-2c04e2152d85"
   },
   "outputs": [
    {
     "name": "stdout",
     "output_type": "stream",
     "text": [
      "Image belongs to: Aaron Paul\n"
     ]
    },
    {
     "data": {
      "image/png": "[encoded data removed]",
      "text/plain": [
       "<Figure size 432x288 with 1 Axes>"
      ]
     },
     "metadata": {
      "needs_background": "light",
      "tags": []
     },
     "output_type": "display_data"
    }
   ],
   "source": [
    "plt.imshow(x_train[45]);\n",
    "print(\"Image belongs to:\",Labels[y_train[45]])"
   ]
  },
  {
   "cell_type": "code",
   "execution_count": null,
   "metadata": {
    "colab": {
     "base_uri": "https://localhost:8080/",
     "height": 286
    },
    "executionInfo": {
     "elapsed": 1079,
     "status": "ok",
     "timestamp": 1621878324385,
     "user": {
      "displayName": "Ruchira S Dwivedi",
      "photoUrl": "",
      "userId": "08004570390284030604"
     },
     "user_tz": -330
    },
    "id": "xNNsMNHrWE5g",
    "outputId": "870ef47e-ae4d-4919-c3da-fcb37af67b81"
   },
   "outputs": [
    {
     "name": "stdout",
     "output_type": "stream",
     "text": [
      "Image belongs to: Anna Gunn\n"
     ]
    },
    {
     "data": {
      "image/png": "[encoded data removed]",
      "text/plain": [
       "<Figure size 432x288 with 1 Axes>"
      ]
     },
     "metadata": {
      "needs_background": "light",
      "tags": []
     },
     "output_type": "display_data"
    }
   ],
   "source": [
    "plt.imshow(x_train[450]);\n",
    "print(\"Image belongs to:\",Labels[y_train[450]])"
   ]
  },
  {
   "cell_type": "code",
   "execution_count": null,
   "metadata": {
    "colab": {
     "base_uri": "https://localhost:8080/",
     "height": 286
    },
    "executionInfo": {
     "elapsed": 689,
     "status": "ok",
     "timestamp": 1621878329473,
     "user": {
      "displayName": "Ruchira S Dwivedi",
      "photoUrl": "",
      "userId": "08004570390284030604"
     },
     "user_tz": -330
    },
    "id": "zXp77ExFWE81",
    "outputId": "daf3132f-e1de-49c8-99e9-d9d179774f72"
   },
   "outputs": [
    {
     "name": "stdout",
     "output_type": "stream",
     "text": [
      "Image belongs to: Neil Patrick Harris\n"
     ]
    },
    {
     "data": {
      "image/png": "[encoded data removed]",
      "text/plain": [
       "<Figure size 432x288 with 1 Axes>"
      ]
     },
     "metadata": {
      "needs_background": "light",
      "tags": []
     },
     "output_type": "display_data"
    }
   ],
   "source": [
    "plt.imshow(x_train[4500]);\n",
    "print(\"Image belongs to:\",Labels[y_train[4500]])"
   ]
  },
  {
   "cell_type": "code",
   "execution_count": null,
   "metadata": {
    "colab": {
     "base_uri": "https://localhost:8080/",
     "height": 286
    },
    "executionInfo": {
     "elapsed": 679,
     "status": "ok",
     "timestamp": 1621878333800,
     "user": {
      "displayName": "Ruchira S Dwivedi",
      "photoUrl": "",
      "userId": "08004570390284030604"
     },
     "user_tz": -330
    },
    "id": "O-SGZMM8WYCW",
    "outputId": "8384071b-3ad1-4960-ba6f-688ff3916f8b"
   },
   "outputs": [
    {
     "name": "stdout",
     "output_type": "stream",
     "text": [
      "Image belongs to: rihanna\n"
     ]
    },
    {
     "data": {
      "image/png": "[encoded data removed]",
      "text/plain": [
       "<Figure size 432x288 with 1 Axes>"
      ]
     },
     "metadata": {
      "needs_background": "light",
      "tags": []
     },
     "output_type": "display_data"
    }
   ],
   "source": [
    "plt.imshow(x_train[10000]);\n",
    "print(\"Image belongs to:\",Labels[y_train[10000]])"
   ]
  },
  {
   "cell_type": "markdown",
   "metadata": {
    "id": "Np-MPVNhG6T4"
   },
   "source": [
    "# **Step 3- Load the pre-trained model and weights**"
   ]
  },
  {
   "cell_type": "code",
   "execution_count": 10,
   "metadata": {
    "colab": {
     "base_uri": "https://localhost:8080/"
    },
    "executionInfo": {
     "elapsed": 5527,
     "status": "ok",
     "timestamp": 1622907659742,
     "user": {
      "displayName": "Ruchira S Dwivedi",
      "photoUrl": "",
      "userId": "08004570390284030604"
     },
     "user_tz": -330
    },
    "id": "f2v2-JpsUQtj",
    "outputId": "5b94e4f0-8432-4f47-be4b-97010aac7723"
   },
   "outputs": [
    {
     "name": "stdout",
     "output_type": "stream",
     "text": [
      "Collecting git+https://github.com/rcmalli/keras-vggface.git\n",
      "  Cloning https://github.com/rcmalli/keras-vggface.git to /tmp/pip-req-build-qr3m36ow\n",
      "  Running command git clone -q https://github.com/rcmalli/keras-vggface.git /tmp/pip-req-build-qr3m36ow\n",
      "Requirement already satisfied: numpy>=1.9.1 in /usr/local/lib/python3.7/dist-packages (from keras-vggface==0.6) (1.19.5)\n",
      "Requirement already satisfied: scipy>=0.14 in /usr/local/lib/python3.7/dist-packages (from keras-vggface==0.6) (1.4.1)\n",
      "Requirement already satisfied: h5py in /usr/local/lib/python3.7/dist-packages (from keras-vggface==0.6) (3.1.0)\n",
      "Requirement already satisfied: pillow in /usr/local/lib/python3.7/dist-packages (from keras-vggface==0.6) (7.1.2)\n",
      "Requirement already satisfied: keras in /usr/local/lib/python3.7/dist-packages (from keras-vggface==0.6) (2.4.3)\n",
      "Requirement already satisfied: six>=1.9.0 in /usr/local/lib/python3.7/dist-packages (from keras-vggface==0.6) (1.15.0)\n",
      "Requirement already satisfied: pyyaml in /usr/local/lib/python3.7/dist-packages (from keras-vggface==0.6) (3.13)\n",
      "Requirement already satisfied: cached-property; python_version < \"3.8\" in /usr/local/lib/python3.7/dist-packages (from h5py->keras-vggface==0.6) (1.5.2)\n",
      "Building wheels for collected packages: keras-vggface\n",
      "  Building wheel for keras-vggface (setup.py) ... \u001b[?25l\u001b[?25hdone\n",
      "  Created wheel for keras-vggface: filename=keras_vggface-0.6-cp37-none-any.whl size=8326 sha256=7d2b74e823952a34d6d0718848e22405e378564378466801547fef7e52e4a37d\n",
      "  Stored in directory: /tmp/pip-ephem-wheel-cache-1sur93rr/wheels/36/07/46/06c25ce8e9cd396dabe151ea1d8a2bc28dafcb11321c1f3a6d\n",
      "Successfully built keras-vggface\n",
      "Installing collected packages: keras-vggface\n",
      "Successfully installed keras-vggface-0.6\n"
     ]
    }
   ],
   "source": [
    "pip install git+https://github.com/rcmalli/keras-vggface.git"
   ]
  },
  {
   "cell_type": "code",
   "execution_count": 11,
   "metadata": {
    "colab": {
     "base_uri": "https://localhost:8080/"
    },
    "executionInfo": {
     "elapsed": 2563,
     "status": "ok",
     "timestamp": 1622907666507,
     "user": {
      "displayName": "Ruchira S Dwivedi",
      "photoUrl": "",
      "userId": "08004570390284030604"
     },
     "user_tz": -330
    },
    "id": "Pg0dZm6wtdUw",
    "outputId": "feca4ac2-ab62-4168-aa53-c4c3a70670ca"
   },
   "outputs": [
    {
     "name": "stdout",
     "output_type": "stream",
     "text": [
      "Requirement already satisfied: keras_vggface in /usr/local/lib/python3.7/dist-packages (0.6)\n",
      "Requirement already satisfied: numpy>=1.9.1 in /usr/local/lib/python3.7/dist-packages (from keras_vggface) (1.19.5)\n",
      "Requirement already satisfied: pyyaml in /usr/local/lib/python3.7/dist-packages (from keras_vggface) (3.13)\n",
      "Requirement already satisfied: h5py in /usr/local/lib/python3.7/dist-packages (from keras_vggface) (3.1.0)\n",
      "Requirement already satisfied: pillow in /usr/local/lib/python3.7/dist-packages (from keras_vggface) (7.1.2)\n",
      "Requirement already satisfied: scipy>=0.14 in /usr/local/lib/python3.7/dist-packages (from keras_vggface) (1.4.1)\n",
      "Requirement already satisfied: six>=1.9.0 in /usr/local/lib/python3.7/dist-packages (from keras_vggface) (1.15.0)\n",
      "Requirement already satisfied: keras in /usr/local/lib/python3.7/dist-packages (from keras_vggface) (2.4.3)\n",
      "Requirement already satisfied: cached-property; python_version < \"3.8\" in /usr/local/lib/python3.7/dist-packages (from h5py->keras_vggface) (1.5.2)\n"
     ]
    }
   ],
   "source": [
    "pip install keras_vggface"
   ]
  },
  {
   "cell_type": "code",
   "execution_count": 12,
   "metadata": {
    "colab": {
     "base_uri": "https://localhost:8080/"
    },
    "executionInfo": {
     "elapsed": 1980,
     "status": "ok",
     "timestamp": 1622907673798,
     "user": {
      "displayName": "Ruchira S Dwivedi",
      "photoUrl": "",
      "userId": "08004570390284030604"
     },
     "user_tz": -330
    },
    "id": "OYdBFyr5UQwu",
    "outputId": "0a848c3b-4f11-4488-b9a4-4123fd772346"
   },
   "outputs": [
    {
     "name": "stdout",
     "output_type": "stream",
     "text": [
      "Name: keras-vggface\n",
      "Version: 0.6\n",
      "Summary: VGGFace implementation with Keras framework\n",
      "Home-page: https://github.com/rcmalli/keras-vggface\n",
      "Author: Refik Can MALLI\n",
      "Author-email: mallir@itu.edu.tr\n",
      "License: MIT\n",
      "Location: /usr/local/lib/python3.7/dist-packages\n",
      "Requires: six, h5py, scipy, numpy, pyyaml, pillow, keras\n",
      "Required-by: \n"
     ]
    }
   ],
   "source": [
    "pip show keras-vggface"
   ]
  },
  {
   "cell_type": "code",
   "execution_count": 13,
   "metadata": {
    "colab": {
     "base_uri": "https://localhost:8080/"
    },
    "executionInfo": {
     "elapsed": 2883,
     "status": "ok",
     "timestamp": 1622907679717,
     "user": {
      "displayName": "Ruchira S Dwivedi",
      "photoUrl": "",
      "userId": "08004570390284030604"
     },
     "user_tz": -330
    },
    "id": "vd1ZYS2qUQ2W",
    "outputId": "e1d0b421-2163-41ec-b234-6ee0e4c01855"
   },
   "outputs": [
    {
     "name": "stdout",
     "output_type": "stream",
     "text": [
      "Collecting keras_applications\n",
      "\u001b[?25l  Downloading https://files.pythonhosted.org/packages/71/e3/19762fdfc62877ae9102edf6342d71b28fbfd9dea3d2f96a882ce099b03f/Keras_Applications-1.0.8-py3-none-any.whl (50kB)\n",
      "\r",
      "\u001b[K     |██████▌                         | 10kB 13.1MB/s eta 0:00:01\r",
      "\u001b[K     |█████████████                   | 20kB 19.1MB/s eta 0:00:01\r",
      "\u001b[K     |███████████████████▍            | 30kB 16.1MB/s eta 0:00:01\r",
      "\u001b[K     |█████████████████████████▉      | 40kB 14.8MB/s eta 0:00:01\r",
      "\u001b[K     |████████████████████████████████| 51kB 4.4MB/s \n",
      "\u001b[?25hRequirement already satisfied: numpy>=1.9.1 in /usr/local/lib/python3.7/dist-packages (from keras_applications) (1.19.5)\n",
      "Requirement already satisfied: h5py in /usr/local/lib/python3.7/dist-packages (from keras_applications) (3.1.0)\n",
      "Requirement already satisfied: cached-property; python_version < \"3.8\" in /usr/local/lib/python3.7/dist-packages (from h5py->keras_applications) (1.5.2)\n",
      "Installing collected packages: keras-applications\n",
      "Successfully installed keras-applications-1.0.8\n"
     ]
    }
   ],
   "source": [
    "pip install keras_applications"
   ]
  },
  {
   "cell_type": "markdown",
   "metadata": {
    "id": "KFLfvxCnLb5B"
   },
   "source": [
    "## **VGG Face Model**"
   ]
  },
  {
   "cell_type": "code",
   "execution_count": null,
   "metadata": {
    "id": "v20Q64UaUQ-y"
   },
   "outputs": [],
   "source": [
    "from keras.engine import  Model\n",
    "from keras.layers import Input\n",
    "from keras_vggface.vggface import VGGFace"
   ]
  },
  {
   "cell_type": "code",
   "execution_count": null,
   "metadata": {
    "id": "asg8lnd3URBU"
   },
   "outputs": [],
   "source": [
    "# Convolution Features\n",
    "vgg_features = VGGFace(include_top=False, input_shape=(224, 224, 3), pooling='avg') # pooling: None, avg or max"
   ]
  },
  {
   "cell_type": "code",
   "execution_count": null,
   "metadata": {
    "colab": {
     "base_uri": "https://localhost:8080/"
    },
    "executionInfo": {
     "elapsed": 303,
     "status": "ok",
     "timestamp": 1621878394932,
     "user": {
      "displayName": "Ruchira S Dwivedi",
      "photoUrl": "",
      "userId": "08004570390284030604"
     },
     "user_tz": -330
    },
    "id": "MAjWS9dXUQ8B",
    "outputId": "21413540-1afb-4aca-e3ed-b48b4eed6d13"
   },
   "outputs": [
    {
     "name": "stdout",
     "output_type": "stream",
     "text": [
      "Inputs: [<KerasTensor: shape=(None, 224, 224, 3) dtype=float32 (created by layer 'input_1')>]\n",
      "Outputs: [<KerasTensor: shape=(None, 512) dtype=float32 (created by layer 'global_average_pooling2d')>]\n"
     ]
    }
   ],
   "source": [
    "# summarize input and output shape\n",
    "print('Inputs: %s' % vgg_features.inputs)\n",
    "print('Outputs: %s' % vgg_features.outputs)"
   ]
  },
  {
   "cell_type": "markdown",
   "metadata": {
    "id": "BfzuY1xgQmw2"
   },
   "source": [
    "## **Pre_processing the input for VGG Face**"
   ]
  },
  {
   "cell_type": "code",
   "execution_count": 14,
   "metadata": {
    "executionInfo": {
     "elapsed": 343,
     "status": "ok",
     "timestamp": 1622907687648,
     "user": {
      "displayName": "Ruchira S Dwivedi",
      "photoUrl": "",
      "userId": "08004570390284030604"
     },
     "user_tz": -330
    },
    "id": "5D2Z5dgBURED"
   },
   "outputs": [],
   "source": [
    "import numpy as np\n",
    "from keras.preprocessing import image\n",
    "from keras_vggface import utils"
   ]
  },
  {
   "cell_type": "code",
   "execution_count": null,
   "metadata": {
    "id": "mrYgovXlcThD"
   },
   "outputs": [],
   "source": [
    "input=[]\n",
    "for i in range(len(dir_list)):\n",
    "  images=os.listdir(path+dir_list[i])\n",
    "  for ii in images:\n",
    "    img=image.load_img(path+dir_list[i]+'/'+ii, target_size=(224,224))\n",
    "    x = image.img_to_array(img)\n",
    "    x = np.expand_dims(x, axis=0)\n",
    "    x = utils.preprocess_input(x, version=1)\n",
    "    input.append(x)"
   ]
  },
  {
   "cell_type": "code",
   "execution_count": null,
   "metadata": {
    "colab": {
     "base_uri": "https://localhost:8080/"
    },
    "executionInfo": {
     "elapsed": 610,
     "status": "ok",
     "timestamp": 1621878433154,
     "user": {
      "displayName": "Ruchira S Dwivedi",
      "photoUrl": "",
      "userId": "08004570390284030604"
     },
     "user_tz": -330
    },
    "id": "P9bt0L04W0fB",
    "outputId": "0469d84e-de92-4e2d-dbf8-fb0f85bf070d"
   },
   "outputs": [
    {
     "data": {
      "text/plain": [
       "10770"
      ]
     },
     "execution_count": 34,
     "metadata": {
      "tags": []
     },
     "output_type": "execute_result"
    }
   ],
   "source": [
    "len(input)"
   ]
  },
  {
   "cell_type": "code",
   "execution_count": null,
   "metadata": {
    "id": "p_eAbiQOgD3u"
   },
   "outputs": [],
   "source": [
    "#input[0]"
   ]
  },
  {
   "cell_type": "markdown",
   "metadata": {
    "id": "VczhcyVYctVl"
   },
   "source": [
    "## **Step 4- Generate Embedding vectors for each face in the dataset.**"
   ]
  },
  {
   "cell_type": "markdown",
   "metadata": {
    "id": "xDVC3KFEJ-7R"
   },
   "source": [
    "Was unable to generate Embedding Vectors for all images since the google colab session crashes giving insufficient RAM as the error. \n",
    "Hence, Generating Embedding Vectors for First 500 images only."
   ]
  },
  {
   "cell_type": "code",
   "execution_count": null,
   "metadata": {
    "id": "Ir0HiP4SnBEY"
   },
   "outputs": [],
   "source": [
    "embedding=[]\n",
    "for i in range(500):\n",
    "    preds=vgg_features.predict(input[i])\n",
    "    embedding.append(preds)\n",
    "    #print('Predicted:', utils.decode_predictions(preds))\n"
   ]
  },
  {
   "cell_type": "code",
   "execution_count": null,
   "metadata": {
    "colab": {
     "base_uri": "https://localhost:8080/"
    },
    "executionInfo": {
     "elapsed": 384,
     "status": "ok",
     "timestamp": 1621880756402,
     "user": {
      "displayName": "Ruchira S Dwivedi",
      "photoUrl": "",
      "userId": "08004570390284030604"
     },
     "user_tz": -330
    },
    "id": "I5n0jZJcYrFS",
    "outputId": "b982d67b-c2e9-4884-eca4-18ad94a290e3"
   },
   "outputs": [
    {
     "data": {
      "text/plain": [
       "array([[6.7288893e-01, 1.3527395e+00, 4.7313771e+00, 9.6896620e+00,\n",
       "        2.4836974e+00, 1.1729058e+00, 9.0303695e-01, 1.6399707e-01,\n",
       "        5.8675227e+00, 5.0915532e+00, 1.8347385e+00, 1.8737859e+00,\n",
       "        2.6817791e+00, 8.1155919e-02, 2.6991403e+00, 4.3476665e-01,\n",
       "        4.7153363e-01, 3.8823080e+00, 1.4243428e-01, 1.2445395e+00,\n",
       "        5.6037450e-01, 5.4325261e+00, 6.7759027e+00, 1.1650712e+00,\n",
       "        4.8225694e+00, 2.6093235e+00, 6.6771178e+00, 1.4311265e+00,\n",
       "        7.2359306e-01, 4.4233785e+00, 2.2211368e+00, 3.2130644e+00,\n",
       "        1.9241902e+00, 9.0502572e-01, 1.4779526e+00, 1.5297118e+01,\n",
       "        9.1794825e+00, 2.4525337e+00, 2.5165951e+00, 5.2738590e+00,\n",
       "        6.1740036e+00, 7.3637211e-01, 5.4081244e+00, 2.1066070e+00,\n",
       "        5.8045549e+00, 3.4740238e+00, 1.0276052e+01, 1.8719764e+00,\n",
       "        2.0540423e+00, 3.5055575e+00, 8.1882018e-01, 1.6655868e+00,\n",
       "        1.7242942e+00, 5.3325720e+00, 2.6298265e+00, 2.8709235e+00,\n",
       "        7.3609334e-01, 2.1759096e-01, 4.2875835e-01, 7.0973349e-01,\n",
       "        1.0868731e+00, 9.1133457e-01, 3.7133114e+00, 4.6778297e+00,\n",
       "        9.3932390e+00, 4.2714696e+00, 1.0268330e+01, 2.6014564e+00,\n",
       "        6.8495274e+00, 1.9022665e+01, 1.1233200e+00, 5.6996250e+00,\n",
       "        9.2762277e-02, 4.5294290e+00, 2.3882475e+00, 2.3968501e-01,\n",
       "        1.8772454e+00, 2.4149952e+00, 1.6837724e+00, 3.0317268e+00,\n",
       "        1.1004309e+01, 3.7346367e-02, 3.6520842e-01, 1.0101939e+00,\n",
       "        2.7465925e+01, 7.6935329e-02, 2.3932867e+00, 1.5299727e+00,\n",
       "        2.0475388e-01, 5.8142149e-01, 9.4041425e-01, 8.9578667e+00,\n",
       "        1.5259432e+00, 2.2012327e+00, 1.5394962e-01, 1.6471137e+00,\n",
       "        1.8406427e-01, 1.7871100e+00, 9.1530132e+00, 2.4379663e+00,\n",
       "        9.4639301e-01, 5.0546005e-02, 8.7841644e+00, 8.5833368e+00,\n",
       "        8.4057802e-01, 1.2413905e+01, 6.1175289e+00, 1.0869944e+01,\n",
       "        3.3899430e-02, 9.1350740e-01, 1.8764907e+00, 4.8447663e-01,\n",
       "        0.0000000e+00, 4.2745008e+00, 6.3273463e+00, 1.1038276e+01,\n",
       "        2.1784191e+00, 6.4385667e+00, 7.1225777e-02, 2.6543670e+00,\n",
       "        7.3187643e-01, 1.0004202e+00, 1.0479935e+01, 1.8101598e-01,\n",
       "        2.3939044e+00, 2.4059017e+00, 8.5686111e+00, 4.3427877e+00,\n",
       "        7.1073704e+00, 1.0574381e+01, 1.9064281e+01, 1.8651822e-01,\n",
       "        8.2912426e+00, 1.8042088e+00, 2.6228926e+00, 2.2295671e+00,\n",
       "        1.9475195e+00, 9.8471966e+00, 2.6776874e+00, 2.9040284e+00,\n",
       "        1.7710781e+00, 9.1645746e+00, 6.1750507e+00, 4.0452375e+00,\n",
       "        3.4970274e+00, 5.6429105e+00, 4.8197150e-01, 3.7424028e+00,\n",
       "        2.3401747e+00, 3.9936614e-01, 3.7973168e+00, 2.6984408e-01,\n",
       "        2.0192266e-01, 0.0000000e+00, 6.5839481e-01, 7.5497264e-01,\n",
       "        2.8308368e+00, 1.3420502e+00, 3.6609435e+00, 9.7204432e-02,\n",
       "        1.2594539e+01, 4.1730356e-01, 1.6273295e+00, 5.8127728e+00,\n",
       "        4.3217227e-01, 2.1344140e-01, 4.8713579e+00, 9.3372017e-02,\n",
       "        6.8836513e+00, 2.8206606e+00, 5.3151937e+00, 4.3887210e+00,\n",
       "        7.7338582e-01, 1.3316873e-01, 9.6725569e+00, 7.6288241e-01,\n",
       "        1.6707668e+00, 8.0839992e-01, 0.0000000e+00, 2.6632495e+00,\n",
       "        3.4588501e+00, 3.0230660e-02, 5.6312943e+00, 6.8946695e+00,\n",
       "        0.0000000e+00, 1.6034840e+00, 5.8546305e+00, 5.5647774e+00,\n",
       "        6.4558058e+00, 8.1631625e-01, 2.0764151e+00, 8.7263288e+00,\n",
       "        2.3869638e+00, 1.6082487e+01, 9.4574699e+00, 3.9358318e-01,\n",
       "        2.7499783e-01, 5.0848079e+00, 6.4272845e-01, 5.7908645e+00,\n",
       "        1.7212418e+00, 4.3838353e+00, 4.5456761e-01, 9.0077057e+00,\n",
       "        3.9381962e+00, 1.9036835e+00, 2.7122739e-01, 6.5131372e-01,\n",
       "        1.7489145e+00, 4.3458943e+00, 6.3042581e-01, 1.1743326e+00,\n",
       "        1.5845178e+00, 2.3073018e+00, 9.8495197e-01, 2.5493646e+00,\n",
       "        3.6547883e+00, 2.9214559e+00, 1.4949088e+00, 1.5611725e+00,\n",
       "        4.3795614e+00, 5.7360859e+00, 8.2350121e+00, 3.5008466e-01,\n",
       "        9.9428248e-01, 4.1160050e-01, 1.8258188e+00, 6.8935388e-01,\n",
       "        1.8251344e+00, 2.6821892e+00, 8.2074766e+00, 3.3775830e+00,\n",
       "        1.0894765e-01, 1.1258607e-01, 3.3035362e+00, 1.5928046e-01,\n",
       "        2.6932292e+00, 3.3911734e+00, 2.1367148e-01, 2.1017668e+00,\n",
       "        1.0946583e+00, 1.0725208e+01, 5.7499433e+00, 1.1434424e+00,\n",
       "        1.1009690e+00, 1.0142554e+00, 4.5755405e+00, 2.2972481e+00,\n",
       "        1.5319322e+00, 1.6698197e+00, 3.7197897e+00, 4.9382372e+00,\n",
       "        1.7604187e+00, 6.5278606e+00, 5.1192570e+00, 3.6100414e+00,\n",
       "        8.1007326e-01, 1.0829024e+01, 9.1822605e+00, 7.9678488e-01,\n",
       "        0.0000000e+00, 8.1165094e+00, 0.0000000e+00, 8.3272390e+00,\n",
       "        1.0838543e+01, 1.4670764e-01, 1.3913023e+00, 1.3732032e+00,\n",
       "        6.2139541e-01, 5.1308012e-01, 1.0376648e+00, 1.5874761e+01,\n",
       "        1.7636352e+00, 2.1139100e+00, 4.9228377e+00, 2.3941369e+00,\n",
       "        2.1140904e+00, 3.4731564e-01, 2.4817059e+00, 7.8142400e+00,\n",
       "        2.2568109e+00, 1.9465441e-01, 1.0010425e+01, 7.4199181e+00,\n",
       "        7.6418462e+00, 2.2018971e+00, 9.9398988e-01, 6.8598092e-01,\n",
       "        6.6625476e-01, 1.6811664e-01, 3.3426607e+00, 6.2762392e-01,\n",
       "        1.9541019e+00, 7.3068628e+00, 4.3417201e+00, 0.0000000e+00,\n",
       "        5.6097145e+00, 3.5862215e-02, 4.3895478e+00, 8.6944050e-01,\n",
       "        1.5193552e+00, 2.8812895e+00, 4.2492303e-01, 2.2997412e-01,\n",
       "        1.2852472e+00, 5.1361976e+00, 9.5183003e-01, 5.5179791e+00,\n",
       "        3.4156492e+00, 5.9882574e+00, 3.6338511e+00, 7.4591775e+00,\n",
       "        4.1313677e+00, 1.7184256e+00, 6.0560164e+00, 1.3525538e+01,\n",
       "        5.1216311e+00, 3.4394827e+00, 2.1236491e+00, 1.0622209e+00,\n",
       "        1.3134195e+01, 3.5527008e+00, 7.2104387e+00, 0.0000000e+00,\n",
       "        1.1448181e+00, 1.7832952e+00, 1.1970727e+00, 4.0452275e-02,\n",
       "        3.5973194e+00, 4.2079811e+00, 2.5505624e+00, 7.8169637e+00,\n",
       "        5.4856777e+00, 5.9903979e-01, 1.3859234e+00, 1.6807784e-01,\n",
       "        2.3766708e-01, 3.8936415e-01, 9.2265934e-01, 2.6476083e+00,\n",
       "        5.7204700e-01, 2.1803864e+01, 6.4779148e-02, 1.0632242e+00,\n",
       "        1.5276053e+00, 1.2245479e+01, 6.1348300e+00, 7.0450205e-01,\n",
       "        6.6865230e+00, 9.7446785e+00, 4.1964450e-01, 7.2285833e+00,\n",
       "        6.8262753e+00, 1.9293296e-01, 3.1361365e-01, 2.4578657e+00,\n",
       "        6.4718838e+00, 1.2340804e+00, 4.9303708e+00, 4.4347665e-01,\n",
       "        2.4655046e+00, 6.8407469e+00, 1.8043755e-01, 1.3019774e+00,\n",
       "        1.0177355e+00, 1.8408777e+00, 1.4181143e+01, 9.4587761e-01,\n",
       "        2.6985452e-01, 7.0340695e+00, 8.2931536e-01, 4.7588296e+00,\n",
       "        6.9571781e+00, 4.6954794e+00, 9.3397987e-01, 3.7679412e+00,\n",
       "        1.1145304e+00, 4.8424797e+00, 1.1925902e+00, 2.1626065e+00,\n",
       "        8.3683853e+00, 6.9064236e-01, 4.3039751e+00, 1.9711437e+00,\n",
       "        1.2079668e+01, 6.7336008e-02, 1.5700316e+00, 2.3326099e+00,\n",
       "        2.7891834e+00, 4.3335791e+00, 1.0378142e+01, 2.1993499e+00,\n",
       "        1.4274449e+00, 5.2349105e+00, 1.8453277e+00, 4.2376289e+00,\n",
       "        1.5817912e+00, 2.1507633e+00, 9.1096207e-02, 6.4813190e+00,\n",
       "        1.6997402e+00, 5.0074205e+00, 1.1830719e-01, 4.3086777e+00,\n",
       "        3.4069357e+00, 2.4629885e-02, 2.0947466e+00, 5.5986795e+00,\n",
       "        2.5177667e+00, 2.4451256e+00, 3.8326149e+00, 2.5275204e+00,\n",
       "        1.1609256e-01, 5.4882898e+00, 3.6800232e+00, 7.0143762e+00,\n",
       "        1.8227102e+00, 2.2166557e+00, 1.0937997e+00, 1.9626480e+00,\n",
       "        0.0000000e+00, 2.2712035e+00, 5.4390445e+00, 4.3939457e+00,\n",
       "        5.1132398e+00, 8.4478312e+00, 1.7262323e+00, 1.4224304e+01,\n",
       "        5.5874091e-01, 2.4475462e+00, 9.5093697e-01, 3.7582500e+00,\n",
       "        2.0270081e+00, 5.6975222e+00, 2.9355140e+00, 8.3187109e-01,\n",
       "        3.9649901e+00, 3.3096018e-01, 1.5866618e+00, 3.4191670e+00,\n",
       "        5.2460635e-01, 4.8749983e-01, 3.6771517e+00, 5.8178222e-01,\n",
       "        2.2968884e-01, 2.9315507e+00, 1.7985197e+00, 7.9782355e-01,\n",
       "        5.9055167e-01, 4.0997510e+00, 2.5958922e+00, 9.4772190e-01,\n",
       "        2.5929868e+00, 2.5127454e+00, 4.8622708e+00, 2.6633136e+00,\n",
       "        1.9432552e-01, 8.4461033e-01, 1.7420451e-01, 7.0992794e+00,\n",
       "        1.2582694e+00, 3.2848463e+00, 6.3455234e+00, 5.7566123e+00,\n",
       "        6.6776919e+00, 1.7237910e+00, 1.3043103e+00, 4.7636604e+00,\n",
       "        1.2603048e+00, 7.3710327e+00, 3.6953163e+00, 1.5087654e-01,\n",
       "        1.3513882e+00, 3.9300900e+00, 0.0000000e+00, 2.6464021e-01,\n",
       "        7.4241409e+00, 3.0905552e+00, 4.1843629e+00, 1.1948016e-01,\n",
       "        6.8736887e-01, 5.2968156e-01, 5.8907394e+00, 6.9503913e+00,\n",
       "        4.3919134e+00, 4.0746937e+00, 5.9805436e+00, 5.5815020e+00,\n",
       "        3.1423726e+00, 6.1577516e+00, 1.8060935e-01, 1.0210200e+01,\n",
       "        4.0049663e-01, 1.9022469e+01, 5.9980488e-01, 2.4642625e+00,\n",
       "        9.7865753e+00, 1.7766631e-01, 1.6631870e+00, 5.2420998e+00,\n",
       "        5.5219946e+00, 6.7766404e+00, 1.3995923e+01, 1.5541954e-01,\n",
       "        1.4760019e+00, 1.2125493e+01, 2.2895257e+00, 0.0000000e+00,\n",
       "        4.6498642e+00, 9.9658644e-01, 8.1993141e+00, 3.2067862e-01]],\n",
       "      dtype=float32)"
      ]
     },
     "execution_count": 62,
     "metadata": {
      "tags": []
     },
     "output_type": "execute_result"
    }
   ],
   "source": [
    "embedding[0]"
   ]
  },
  {
   "cell_type": "code",
   "execution_count": null,
   "metadata": {
    "colab": {
     "base_uri": "https://localhost:8080/"
    },
    "executionInfo": {
     "elapsed": 414,
     "status": "ok",
     "timestamp": 1621880760601,
     "user": {
      "displayName": "Ruchira S Dwivedi",
      "photoUrl": "",
      "userId": "08004570390284030604"
     },
     "user_tz": -330
    },
    "id": "21qWEIaRYt-n",
    "outputId": "878018c0-3df5-425e-8026-f9c8558a53fe"
   },
   "outputs": [
    {
     "data": {
      "text/plain": [
       "array([[8.44157982e+00, 0.00000000e+00, 7.69084740e+00, 4.89334869e+00,\n",
       "        2.02085590e+00, 1.59857217e-02, 7.07306528e+00, 0.00000000e+00,\n",
       "        4.71142530e+00, 5.55743265e+00, 3.92272043e+00, 4.45531845e+00,\n",
       "        5.77905655e-01, 0.00000000e+00, 4.92758942e+00, 3.38864654e-01,\n",
       "        2.49664515e-01, 6.30608988e+00, 9.28778648e-01, 4.31433916e-01,\n",
       "        2.13474560e+00, 2.43273616e+00, 1.61036873e+00, 5.18660259e+00,\n",
       "        7.20683765e+00, 5.32001839e-04, 9.67842102e+00, 2.75821149e-01,\n",
       "        0.00000000e+00, 1.39488548e-01, 3.27426434e-01, 3.24591494e+00,\n",
       "        1.76462024e-01, 1.84405074e-01, 1.59832394e+00, 1.08251877e+01,\n",
       "        1.21027708e+00, 2.78567940e-01, 1.75036335e+00, 5.10547829e+00,\n",
       "        5.92830133e+00, 0.00000000e+00, 1.27927268e+00, 4.73764777e-01,\n",
       "        0.00000000e+00, 4.84045219e+00, 7.09739685e-01, 9.56572741e-02,\n",
       "        4.04386330e+00, 3.94621897e+00, 4.72841787e+00, 6.85491264e-01,\n",
       "        1.09499550e+00, 1.93996336e-02, 3.30680203e+00, 0.00000000e+00,\n",
       "        1.04963999e+01, 0.00000000e+00, 0.00000000e+00, 2.40615197e-02,\n",
       "        2.59087944e+00, 1.70570135e+00, 9.06348991e+00, 2.02283072e+00,\n",
       "        2.40963411e+00, 6.41330433e+00, 7.91019440e+00, 9.55892849e+00,\n",
       "        1.19662390e+01, 1.96782207e+01, 1.88139992e+01, 6.98188066e+00,\n",
       "        2.38426775e-02, 8.69766903e+00, 6.66849804e+00, 1.45904255e+00,\n",
       "        7.13420630e-01, 2.08384705e+00, 1.06934763e-01, 2.53938317e-01,\n",
       "        2.51235628e+00, 2.59282541e+00, 6.30248129e-01, 3.12717724e+00,\n",
       "        3.11626873e+01, 5.75390005e+00, 6.24172926e-01, 9.38392580e-01,\n",
       "        0.00000000e+00, 2.59346694e-01, 5.61834931e-01, 1.42924464e+00,\n",
       "        0.00000000e+00, 9.82670069e-01, 1.81631908e-01, 1.14562953e+00,\n",
       "        4.57186788e-01, 1.58715928e+00, 9.03979659e-01, 2.80587256e-01,\n",
       "        3.96946883e+00, 9.71163213e-02, 8.35977173e+00, 1.50962615e+00,\n",
       "        2.28853941e+00, 1.81038666e+01, 5.15274429e+00, 1.27617636e+01,\n",
       "        2.39570618e-01, 4.09759223e-01, 8.66619647e-02, 3.44562382e-01,\n",
       "        2.25940847e+00, 0.00000000e+00, 6.10337067e+00, 4.01811838e+00,\n",
       "        2.45279163e-01, 2.12424254e+00, 8.64293203e-02, 1.27348423e+00,\n",
       "        3.01480532e+00, 3.08637083e-01, 6.06655073e+00, 4.20040995e-01,\n",
       "        2.45238161e+00, 3.48799497e-01, 1.04431238e+01, 9.65818405e+00,\n",
       "        8.12700748e-01, 3.15243411e+00, 1.04263706e+01, 2.75376976e-01,\n",
       "        2.14348221e+00, 1.35992453e-01, 1.59070283e-01, 3.64027739e+00,\n",
       "        1.30300844e+00, 5.75188160e+00, 1.35835552e+00, 2.15436888e+00,\n",
       "        9.06643486e+00, 6.47367656e-01, 6.64738512e+00, 7.18738794e+00,\n",
       "        3.26670080e-01, 2.08199430e+00, 1.71756840e+00, 2.78781772e-01,\n",
       "        3.81704783e+00, 7.53195381e+00, 1.04125552e-01, 3.36809814e-01,\n",
       "        0.00000000e+00, 1.48204970e+00, 2.38963652e+00, 0.00000000e+00,\n",
       "        0.00000000e+00, 4.07394600e+00, 1.77889729e+00, 2.76101971e+00,\n",
       "        2.13938942e+01, 4.15277481e-02, 2.51955891e+00, 1.34531903e+00,\n",
       "        4.48888987e-01, 2.83440137e+00, 3.75952649e+00, 6.66475952e-01,\n",
       "        2.60050625e-01, 0.00000000e+00, 9.06473064e+00, 1.14579868e+01,\n",
       "        6.01727009e-01, 1.58525038e+01, 8.02603340e+00, 3.72065020e+00,\n",
       "        6.59816504e-01, 7.16642523e+00, 1.67872868e+01, 1.02493930e+00,\n",
       "        9.07998204e-01, 4.85935688e-01, 1.73933625e+00, 5.14853191e+00,\n",
       "        0.00000000e+00, 2.58581609e-01, 6.73819184e-01, 7.31093311e+00,\n",
       "        1.22132359e+01, 1.35331273e+00, 2.56918650e-02, 2.16122074e+01,\n",
       "        4.87550688e+00, 4.58216619e+00, 7.41619301e+00, 4.06704307e-01,\n",
       "        4.47254801e+00, 2.15074658e+00, 4.12777090e+00, 1.56473601e+00,\n",
       "        1.04244804e+01, 2.93728113e+00, 3.09988642e+00, 1.40423737e+01,\n",
       "        4.75069427e+00, 5.89787436e+00, 0.00000000e+00, 7.64652014e-01,\n",
       "        3.12942922e-01, 3.36589289e+00, 7.29834414e+00, 1.27870107e+00,\n",
       "        2.55148721e+00, 5.70986450e-01, 0.00000000e+00, 0.00000000e+00,\n",
       "        6.14841127e+00, 1.96974075e+00, 2.27532014e-01, 0.00000000e+00,\n",
       "        1.21405649e+01, 4.68075228e+00, 1.16234410e+00, 0.00000000e+00,\n",
       "        1.49236560e+00, 1.00716960e+00, 1.72696602e+00, 1.43084574e+00,\n",
       "        1.51637876e+00, 6.60322249e-01, 2.70354033e+00, 4.20164108e+00,\n",
       "        2.46310487e-01, 2.22457498e-01, 1.53467143e+00, 5.52584887e-01,\n",
       "        1.02209795e+00, 2.01134682e+00, 3.77570599e-01, 1.92752957e-01,\n",
       "        0.00000000e+00, 1.30423613e+01, 2.87809372e+00, 2.62335443e+00,\n",
       "        1.59689331e+00, 6.09743118e+00, 4.51047707e+00, 3.46717238e-03,\n",
       "        8.60254574e+00, 8.79184008e-02, 7.99712539e-01, 1.69909513e+00,\n",
       "        9.16100407e+00, 1.30648441e+01, 8.81645107e+00, 3.78149822e-02,\n",
       "        4.68074173e-01, 1.04621500e-01, 7.94866705e+00, 1.07007146e+00,\n",
       "        0.00000000e+00, 1.16991329e+01, 1.56677008e-01, 9.03289855e-01,\n",
       "        1.14535646e+01, 0.00000000e+00, 0.00000000e+00, 2.89478850e+00,\n",
       "        1.39556575e+00, 4.71693516e+00, 2.11211538e+00, 1.07405348e+01,\n",
       "        1.12157178e+00, 4.11206818e+00, 1.10846605e+01, 0.00000000e+00,\n",
       "        9.72029209e-01, 1.94003153e+00, 1.54245508e+00, 3.12456584e+00,\n",
       "        2.41820550e+00, 2.51276159e+00, 4.60381317e+00, 1.00093222e+00,\n",
       "        1.15381994e+01, 1.92285252e+00, 1.19531050e-01, 5.41020298e+00,\n",
       "        3.29622120e-01, 1.20818567e+01, 4.82741547e+00, 0.00000000e+00,\n",
       "        9.02494049e+00, 8.39949894e+00, 4.83152437e+00, 9.33943391e-02,\n",
       "        7.23008215e-01, 1.80463254e+00, 4.75799131e+00, 4.65111732e+00,\n",
       "        2.94678777e-01, 8.43657875e+00, 1.10966825e+01, 2.13313592e-03,\n",
       "        3.80407548e+00, 6.85497808e+00, 3.55991960e-01, 7.10155201e+00,\n",
       "        2.14310026e+00, 6.71085024e+00, 9.00913620e+00, 1.32826939e+01,\n",
       "        9.62650681e+00, 7.21230507e+00, 6.71599150e-01, 2.06526184e+01,\n",
       "        2.31993303e-01, 8.15064788e-01, 8.57891329e-03, 2.97921181e-01,\n",
       "        2.25810738e+01, 7.36677027e+00, 1.30211172e+01, 1.51598108e+00,\n",
       "        2.01944020e-02, 2.56073833e+00, 9.34272587e-01, 0.00000000e+00,\n",
       "        6.50844860e+00, 1.64054453e+00, 1.03287344e+01, 5.48151207e+00,\n",
       "        7.93183863e-01, 3.67661417e-01, 1.02576208e+00, 1.32306921e+00,\n",
       "        1.79976511e+00, 2.05809808e+00, 8.34583223e-01, 1.81675613e+00,\n",
       "        1.19238377e+00, 2.32859402e+01, 0.00000000e+00, 0.00000000e+00,\n",
       "        1.79106081e+00, 4.40883207e+00, 6.92761993e+00, 6.81953382e+00,\n",
       "        1.06667919e+01, 4.54982042e+00, 0.00000000e+00, 2.34521818e+00,\n",
       "        6.60012150e+00, 8.64448845e-02, 8.29033479e-02, 1.74123144e+00,\n",
       "        2.94076037e+00, 1.75397038e-01, 0.00000000e+00, 1.62487888e+00,\n",
       "        9.42173862e+00, 0.00000000e+00, 0.00000000e+00, 2.85372519e+00,\n",
       "        2.56741261e+00, 4.07078505e-01, 7.30811930e+00, 3.36873263e-01,\n",
       "        1.57572818e+00, 2.91588449e+00, 5.23827076e-01, 4.44278181e-01,\n",
       "        5.64042139e+00, 6.07089615e+00, 0.00000000e+00, 7.98196197e-01,\n",
       "        6.96627855e-01, 1.75136316e+00, 1.25513422e+00, 5.37106991e+00,\n",
       "        5.24368429e+00, 2.06658077e+00, 2.31148982e+00, 2.90440965e+00,\n",
       "        1.94319477e+01, 0.00000000e+00, 3.31647348e+00, 2.06524324e+00,\n",
       "        1.74485326e+00, 9.19010258e+00, 8.67638206e+00, 3.12607431e+00,\n",
       "        3.93103528e+00, 2.74245918e-01, 9.03773606e-02, 2.90929985e+00,\n",
       "        0.00000000e+00, 6.26442862e+00, 3.21775287e-01, 1.26978588e+00,\n",
       "        8.72130394e+00, 7.19928169e+00, 3.34053010e-01, 5.69830239e-01,\n",
       "        2.12818313e+00, 3.58497322e-01, 2.45603129e-01, 1.65469050e+00,\n",
       "        9.34003711e-01, 1.02075195e+00, 9.58274078e+00, 8.96209180e-01,\n",
       "        1.29184211e-02, 1.32053542e+00, 8.58241558e-01, 1.18114614e+01,\n",
       "        0.00000000e+00, 2.43088770e+00, 1.93796039e+00, 0.00000000e+00,\n",
       "        0.00000000e+00, 6.34177446e-01, 1.05779514e+01, 7.85001993e+00,\n",
       "        3.61119413e+00, 2.84470248e+00, 0.00000000e+00, 8.15088654e+00,\n",
       "        0.00000000e+00, 1.88080513e+00, 4.03476357e-01, 4.16028166e+00,\n",
       "        6.20041275e+00, 1.36277456e+01, 0.00000000e+00, 2.56999910e-01,\n",
       "        1.45876622e+00, 0.00000000e+00, 0.00000000e+00, 1.29073322e+00,\n",
       "        1.78623104e+00, 4.49096537e+00, 1.80079818e-01, 6.60156429e-01,\n",
       "        3.48302811e-01, 2.01043272e+00, 3.22702527e-02, 1.12766159e+00,\n",
       "        1.84406924e+00, 7.11045921e-01, 4.21520472e-01, 0.00000000e+00,\n",
       "        1.47175276e+00, 8.35467353e-02, 1.72524214e+00, 6.55821323e-01,\n",
       "        2.22831988e+00, 1.96693337e+00, 4.34595871e+00, 4.13948298e+00,\n",
       "        6.80170894e-01, 1.08435678e+00, 4.29282856e+00, 1.97748280e+00,\n",
       "        4.97276640e+00, 2.45342374e+00, 3.06239035e-02, 6.39747477e+00,\n",
       "        8.23213637e-01, 1.39607561e+00, 0.00000000e+00, 1.16087094e-01,\n",
       "        5.55419624e-01, 4.70179510e+00, 3.01221997e-01, 2.41370821e+00,\n",
       "        4.53162575e+00, 1.77046280e+01, 1.36738646e+00, 2.32560515e-01,\n",
       "        1.28602135e+00, 0.00000000e+00, 1.50232530e+00, 3.28945518e+00,\n",
       "        2.93807340e+00, 6.98006010e+00, 4.43605006e-01, 2.49617743e+00,\n",
       "        1.56915486e+00, 4.50304127e+00, 2.51043010e+00, 1.48026919e+00,\n",
       "        0.00000000e+00, 1.13759565e+01, 3.81675005e+00, 1.82349312e+00,\n",
       "        5.69881153e+00, 3.63736129e+00, 1.38899937e+01, 1.05225544e+01,\n",
       "        1.27602533e-01, 3.23137426e+00, 1.04119110e+01, 0.00000000e+00,\n",
       "        1.26084280e+00, 2.94515204e+00, 2.19934177e+00, 4.01165485e+00,\n",
       "        2.48812032e+00, 9.34314632e+00, 3.48649120e+00, 1.22334123e-01]],\n",
       "      dtype=float32)"
      ]
     },
     "execution_count": 63,
     "metadata": {
      "tags": []
     },
     "output_type": "execute_result"
    }
   ],
   "source": [
    "embedding[1]"
   ]
  },
  {
   "cell_type": "code",
   "execution_count": null,
   "metadata": {
    "colab": {
     "base_uri": "https://localhost:8080/"
    },
    "executionInfo": {
     "elapsed": 411,
     "status": "ok",
     "timestamp": 1621880765720,
     "user": {
      "displayName": "Ruchira S Dwivedi",
      "photoUrl": "",
      "userId": "08004570390284030604"
     },
     "user_tz": -330
    },
    "id": "ii5JuB3TbWzc",
    "outputId": "9a2dc158-016c-4677-a9e4-b9664f74f71e"
   },
   "outputs": [
    {
     "data": {
      "text/plain": [
       "408"
      ]
     },
     "execution_count": 64,
     "metadata": {
      "tags": []
     },
     "output_type": "execute_result"
    }
   ],
   "source": [
    "len(embedding)"
   ]
  },
  {
   "cell_type": "markdown",
   "metadata": {
    "id": "IQ4oebUJG6gE"
   },
   "source": [
    "## **Step 5- Build distance metrics for identifying the distance between two given images.**"
   ]
  },
  {
   "cell_type": "code",
   "execution_count": null,
   "metadata": {
    "id": "quljMSAPY2BW"
   },
   "outputs": [],
   "source": [
    "from tensorflow.keras import backend as K\n",
    "from scipy.spatial import distance\n",
    "\n",
    "def is_match(x,y, thresh=0.5):\n",
    "\t# calculate distance between embeddings \n",
    "\n",
    "    score=distance.cosine(x,y)\n",
    "    if score <= thresh:\n",
    "      print('Face is a Match (%.3f <= %.3f)' % (score, thresh))\n",
    "    else:\n",
    "      print('Face is NOT a Match (%.3f <= %.3f)' % (score, thresh))  \n"
   ]
  },
  {
   "cell_type": "code",
   "execution_count": null,
   "metadata": {
    "colab": {
     "base_uri": "https://localhost:8080/"
    },
    "executionInfo": {
     "elapsed": 609,
     "status": "ok",
     "timestamp": 1621881882036,
     "user": {
      "displayName": "Ruchira S Dwivedi",
      "photoUrl": "",
      "userId": "08004570390284030604"
     },
     "user_tz": -330
    },
    "id": "PTPMM3M3Y5uP",
    "outputId": "e45b9614-4e67-45a1-8e6e-475b44125727"
   },
   "outputs": [
    {
     "name": "stdout",
     "output_type": "stream",
     "text": [
      "Face is a Match (0.315 <= 0.500)\n",
      "Verifying the result with Lables: Images are of : Aaron Paul and Aaron Paul\n"
     ]
    }
   ],
   "source": [
    "is_match(embedding[0],embedding[10])\n",
    "print(\"Verifying the result with Lables: Images are of :\",Labels[y_train[0]]+\" and \"+Labels[y_train[10]])"
   ]
  },
  {
   "cell_type": "code",
   "execution_count": null,
   "metadata": {
    "colab": {
     "base_uri": "https://localhost:8080/"
    },
    "executionInfo": {
     "elapsed": 469,
     "status": "ok",
     "timestamp": 1621881492049,
     "user": {
      "displayName": "Ruchira S Dwivedi",
      "photoUrl": "",
      "userId": "08004570390284030604"
     },
     "user_tz": -330
    },
    "id": "XKH7G6_Pqy8J",
    "outputId": "ab0e96db-cfcd-4df4-9163-ea9f3e119973"
   },
   "outputs": [
    {
     "name": "stdout",
     "output_type": "stream",
     "text": [
      "Face is a Match (0.197 <= 0.500)\n",
      "Verifying the result with Lables: Images are of : Amaury Nolasco and Amaury Nolasco\n"
     ]
    }
   ],
   "source": [
    "is_match(embedding[300],embedding[310])\n",
    "print(\"Verifying the result with Lables: Images are of :\",Labels[y_train[300]]+\" and \"+Labels[y_train[310]])"
   ]
  },
  {
   "cell_type": "code",
   "execution_count": null,
   "metadata": {
    "colab": {
     "base_uri": "https://localhost:8080/"
    },
    "executionInfo": {
     "elapsed": 932,
     "status": "ok",
     "timestamp": 1621881451443,
     "user": {
      "displayName": "Ruchira S Dwivedi",
      "photoUrl": "",
      "userId": "08004570390284030604"
     },
     "user_tz": -330
    },
    "id": "fvpNDKqYbVbd",
    "outputId": "e12f9115-b41c-44cd-c2eb-e829bf769b6b"
   },
   "outputs": [
    {
     "name": "stdout",
     "output_type": "stream",
     "text": [
      "Face is NOT a Match (0.546 <= 0.500)\n",
      "Verifying the result with Lables: Images are of : Aaron Paul and Alvaro Morte\n"
     ]
    }
   ],
   "source": [
    "is_match(embedding[175],embedding[190])\n",
    "print(\"Verifying the result with Lables: Images are of :\",Labels[y_train[75]]+\" and \"+Labels[y_train[90]])"
   ]
  },
  {
   "cell_type": "code",
   "execution_count": null,
   "metadata": {
    "colab": {
     "base_uri": "https://localhost:8080/"
    },
    "executionInfo": {
     "elapsed": 345,
     "status": "ok",
     "timestamp": 1621881402243,
     "user": {
      "displayName": "Ruchira S Dwivedi",
      "photoUrl": "",
      "userId": "08004570390284030604"
     },
     "user_tz": -330
    },
    "id": "ivNIkPgQpfaw",
    "outputId": "e32380f7-74cd-43e7-87e5-15324fd600e0"
   },
   "outputs": [
    {
     "name": "stdout",
     "output_type": "stream",
     "text": [
      "Face is NOT a Match (0.645 <= 0.500)\n",
      "Verifying the result with Lables: Images are of : Alvaro Morte and Amaury Nolasco\n"
     ]
    }
   ],
   "source": [
    "is_match(embedding[100],embedding[400])\n",
    "print(\"Verifying the result with Lables: Images are of :\",Labels[y_train[100]]+\" and \"+Labels[y_train[400]])"
   ]
  },
  {
   "cell_type": "markdown",
   "metadata": {
    "id": "C2z7_ASSG6k7"
   },
   "source": [
    "## **Step 6- Use PCA for dimensionality reduction.**"
   ]
  },
  {
   "cell_type": "code",
   "execution_count": null,
   "metadata": {
    "colab": {
     "base_uri": "https://localhost:8080/"
    },
    "executionInfo": {
     "elapsed": 457,
     "status": "ok",
     "timestamp": 1621882249307,
     "user": {
      "displayName": "Ruchira S Dwivedi",
      "photoUrl": "",
      "userId": "08004570390284030604"
     },
     "user_tz": -330
    },
    "id": "-9FNezd4txOS",
    "outputId": "dd069d69-7c77-48bb-91a6-a26fa460a40b"
   },
   "outputs": [
    {
     "data": {
      "text/plain": [
       "(408, 1, 512)"
      ]
     },
     "execution_count": 110,
     "metadata": {
      "tags": []
     },
     "output_type": "execute_result"
    }
   ],
   "source": [
    "np.shape(embedding)"
   ]
  },
  {
   "cell_type": "code",
   "execution_count": null,
   "metadata": {
    "colab": {
     "base_uri": "https://localhost:8080/"
    },
    "executionInfo": {
     "elapsed": 413,
     "status": "ok",
     "timestamp": 1621882259035,
     "user": {
      "displayName": "Ruchira S Dwivedi",
      "photoUrl": "",
      "userId": "08004570390284030604"
     },
     "user_tz": -330
    },
    "id": "pJu5GzratR8F",
    "outputId": "633ec51f-e3ba-4b50-a4e1-6afcdfbc5c4e"
   },
   "outputs": [
    {
     "data": {
      "text/plain": [
       "(408, 512)"
      ]
     },
     "execution_count": 111,
     "metadata": {
      "tags": []
     },
     "output_type": "execute_result"
    }
   ],
   "source": [
    "data=np.squeeze(embedding)\n",
    "data.shape"
   ]
  },
  {
   "cell_type": "code",
   "execution_count": null,
   "metadata": {
    "id": "9UIgmYwbtBMq"
   },
   "outputs": [],
   "source": [
    "data=pd.DataFrame(data)"
   ]
  },
  {
   "cell_type": "code",
   "execution_count": null,
   "metadata": {
    "id": "uBvd7_Zns-bH"
   },
   "outputs": [],
   "source": [
    "from sklearn.decomposition import PCA\n",
    "import pandas as pd\n",
    "pca=PCA(n_components=100)"
   ]
  },
  {
   "cell_type": "code",
   "execution_count": null,
   "metadata": {
    "colab": {
     "base_uri": "https://localhost:8080/"
    },
    "executionInfo": {
     "elapsed": 411,
     "status": "ok",
     "timestamp": 1621882556200,
     "user": {
      "displayName": "Ruchira S Dwivedi",
      "photoUrl": "",
      "userId": "08004570390284030604"
     },
     "user_tz": -330
    },
    "id": "amy9g6iEpfeD",
    "outputId": "b00631d2-1173-4a3e-bdf5-68d0de5d7943"
   },
   "outputs": [
    {
     "name": "stdout",
     "output_type": "stream",
     "text": [
      "Eigen Values are\n",
      " [1587.403     1053.044      627.05206    494.1566     184.48637\n",
      "  138.59923    130.89919    112.67447    107.09018     99.93202\n",
      "   74.620674    73.73775     72.52093     70.268       67.26396\n",
      "   59.87642     58.8656      55.31009     53.269638    50.486176\n",
      "   47.220325    46.25434     43.806572    42.919315    40.941647\n",
      "   39.963886    39.51137     37.620472    35.228195    34.52175\n",
      "   32.60589     32.199604    31.126984    29.879938    29.56705\n",
      "   27.377745    26.490004    25.597433    25.325699    24.064732\n",
      "   23.092352    22.446198    22.071106    21.059908    20.6367\n",
      "   20.416618    20.0058      19.266659    18.679684    18.452276\n",
      "   17.699392    17.454758    17.135582    16.647       16.587976\n",
      "   15.781009    15.636342    15.247299    14.861395    14.324582\n",
      "   13.942634    13.706895    13.528457    13.193049    13.069763\n",
      "   12.345745    12.246383    12.059581    11.61263     11.41315\n",
      "   11.123972    10.878388    10.739013    10.56683     10.447736\n",
      "   10.285941    10.0649185    9.821484     9.608916     9.436015\n",
      "    9.285602     9.098453     8.837038     8.761403     8.71507\n",
      "    8.365709     8.115984     8.011586     7.8897295    7.733578\n",
      "    7.5564613    7.4487715    7.236266     7.1446924    6.960225\n",
      "    6.79043      6.71693      6.6550016    6.524394     6.429271 ]\n",
      "\n",
      "Eigen Vectors are \n",
      " [[ 0.01195749 -0.0107402  -0.05166815 ... -0.05086542  0.04278021\n",
      "  -0.00594042]\n",
      " [ 0.06071816  0.0028693  -0.03160183 ...  0.00137691  0.03133691\n",
      "   0.00019182]\n",
      " [ 0.0026977   0.03285879 -0.02823026 ... -0.03577508 -0.06211216\n",
      "  -0.01337546]\n",
      " ...\n",
      " [ 0.01646807 -0.01479753 -0.00536405 ... -0.07856618  0.04388139\n",
      "  -0.01986933]\n",
      " [ 0.0137834  -0.01436655  0.00233135 ...  0.07154898 -0.04931315\n",
      "   0.01491924]\n",
      " [ 0.07323574 -0.01334597 -0.01207758 ... -0.01550684 -0.00909392\n",
      "   0.01097946]]\n",
      "\n",
      "Percentage of variation explained by each eigen Vector\n",
      " [0.22524984 0.1494252  0.08897765 0.07012    0.02617831 0.019667\n",
      " 0.01857438 0.01598832 0.01519592 0.01418019 0.01058855 0.01046326\n",
      " 0.0102906  0.00997091 0.00954464 0.00849636 0.00835293 0.00784841\n",
      " 0.00755887 0.0071639  0.00670049 0.00656341 0.00621608 0.00609018\n",
      " 0.00580955 0.00567081 0.0056066  0.00533828 0.00499882 0.00489858\n",
      " 0.00462672 0.00456907 0.00441687 0.00423991 0.00419552 0.00388486\n",
      " 0.00375889 0.00363223 0.00359367 0.00341475 0.00327677 0.00318508\n",
      " 0.00313185 0.00298837 0.00292831 0.00289708 0.00283879 0.00273391\n",
      " 0.00265062 0.00261835 0.00251151 0.0024768  0.00243151 0.00236218\n",
      " 0.00235381 0.0022393  0.00221877 0.00216357 0.00210881 0.00203263\n",
      " 0.00197844 0.00194499 0.00191967 0.00187207 0.00185458 0.00175184\n",
      " 0.00173774 0.00171123 0.00164781 0.00161951 0.00157847 0.00154363\n",
      " 0.00152385 0.00149942 0.00148252 0.00145956 0.0014282  0.00139365\n",
      " 0.00136349 0.00133895 0.00131761 0.00129106 0.00125396 0.00124323\n",
      " 0.00123665 0.00118708 0.00115164 0.00113683 0.00111954 0.00109738\n",
      " 0.00107225 0.00105697 0.00102681 0.00101382 0.00098764 0.00096355\n",
      " 0.00095312 0.00094433 0.0009258  0.0009123 ]\n",
      "\n",
      " Cumulative Variance Explained\n",
      " [0.22524984 0.37467504 0.46365267 0.53377265 0.55995095 0.579618\n",
      " 0.59819233 0.6141807  0.6293766  0.6435568  0.6541453  0.66460854\n",
      " 0.67489916 0.68487006 0.69441473 0.7029111  0.711264   0.7191124\n",
      " 0.7266713  0.73383516 0.7405356  0.74709904 0.75331515 0.7594053\n",
      " 0.76521486 0.77088565 0.77649224 0.78183055 0.78682935 0.79172796\n",
      " 0.7963547  0.80092376 0.80534065 0.80958056 0.8137761  0.8176609\n",
      " 0.82141984 0.8250521  0.82864577 0.8320605  0.8353373  0.8385224\n",
      " 0.84165424 0.8446426  0.8475709  0.850468   0.8533068  0.85604066\n",
      " 0.8586913  0.86130965 0.86382115 0.86629796 0.8687295  0.87109166\n",
      " 0.87344545 0.87568474 0.8779035  0.8800671  0.8821759  0.88420856\n",
      " 0.886187   0.888132   0.89005166 0.8919237  0.8937783  0.89553016\n",
      " 0.8972679  0.8989791  0.90062696 0.9022465  0.9038249  0.90536857\n",
      " 0.9068924  0.90839183 0.9098743  0.91133386 0.91276205 0.9141557\n",
      " 0.91551924 0.9168582  0.9181758  0.91946685 0.9207208  0.92196405\n",
      " 0.9232007  0.9243878  0.92553943 0.9266763  0.9277958  0.9288932\n",
      " 0.92996544 0.9310224  0.9320492  0.93306303 0.9340507  0.93501425\n",
      " 0.9359674  0.9369117  0.9378375  0.9387498 ]\n"
     ]
    }
   ],
   "source": [
    "pca.fit(data)\n",
    "\n",
    "print(\"Eigen Values are\\n\",pca.explained_variance_)\n",
    "\n",
    "print(\"\\nEigen Vectors are \\n\",pca.components_)\n",
    "\n",
    "print(\"\\nPercentage of variation explained by each eigen Vector\\n\",pca.explained_variance_ratio_)\n",
    "\n",
    "print(\"\\n Cumulative Variance Explained\\n\",np.cumsum(pca.explained_variance_ratio_))"
   ]
  },
  {
   "cell_type": "code",
   "execution_count": null,
   "metadata": {
    "id": "1x-8Py1Apfgv"
   },
   "outputs": [],
   "source": [
    "cov_mat=np.cov(data.T)\n",
    "#print(\"Cov mat is \\n\",cov_mat)\n",
    "\n",
    "eig_val,eig_vec=np.linalg.eig(cov_mat)\n",
    "\n",
    "e_sum=sum(eig_val)\n",
    "   \n",
    "var=[(eig_val[i]/e_sum) for i in range(len(eig_val))] \n",
    "\n",
    "cum_val=np.cumsum(var)\n",
    "\n",
    "#print(f'Variance explained  by each PC = {np.array(var).round(2)}')\n",
    "#print(\"Cumulative Variance Explained =\", np.array(cum_val).round(2))"
   ]
  },
  {
   "cell_type": "code",
   "execution_count": null,
   "metadata": {
    "id": "X_VnRYqZvNMd"
   },
   "outputs": [],
   "source": [
    "#var[:200]"
   ]
  },
  {
   "cell_type": "code",
   "execution_count": null,
   "metadata": {
    "colab": {
     "base_uri": "https://localhost:8080/",
     "height": 551
    },
    "executionInfo": {
     "elapsed": 599,
     "status": "ok",
     "timestamp": 1621882979918,
     "user": {
      "displayName": "Ruchira S Dwivedi",
      "photoUrl": "",
      "userId": "08004570390284030604"
     },
     "user_tz": -330
    },
    "id": "ceVN6vqDuaKM",
    "outputId": "0cef426c-29ce-439b-c118-314c79ca3627"
   },
   "outputs": [
    {
     "name": "stderr",
     "output_type": "stream",
     "text": [
      "/usr/local/lib/python3.7/dist-packages/numpy/core/_asarray.py:83: ComplexWarning: Casting complex values to real discards the imaginary part\n",
      "  return array(a, dtype, copy=False, order=order)\n"
     ]
    },
    {
     "data": {
      "image/png": "[encoded data removed]",
      "text/plain": [
       "<Figure size 720x576 with 1 Axes>"
      ]
     },
     "metadata": {
      "needs_background": "light",
      "tags": []
     },
     "output_type": "display_data"
    }
   ],
   "source": [
    "'PLOT - CUMULATIVE VARIATON EXPLAINED vs EIGEN VALUE'\n",
    "plt.figure(figsize=(10,8));\n",
    "plt.step(list(range(1,513)),cum_val, where='mid');\n",
    "plt.ylabel('Cum of variation explained');\n",
    "plt.xlabel('eigen Value');\n",
    "plt.show();"
   ]
  },
  {
   "cell_type": "markdown",
   "metadata": {
    "id": "pvv0bnoYw9KF"
   },
   "source": [
    "## **Based on Graph above, we take no of components=150**"
   ]
  },
  {
   "cell_type": "code",
   "execution_count": null,
   "metadata": {
    "colab": {
     "base_uri": "https://localhost:8080/"
    },
    "executionInfo": {
     "elapsed": 412,
     "status": "ok",
     "timestamp": 1621883131588,
     "user": {
      "displayName": "Ruchira S Dwivedi",
      "photoUrl": "",
      "userId": "08004570390284030604"
     },
     "user_tz": -330
    },
    "id": "28aBKHPSw9V3",
    "outputId": "bab17d29-c113-4b4a-a2ef-1939e85d119f"
   },
   "outputs": [
    {
     "data": {
      "text/plain": [
       "PCA(copy=True, iterated_power='auto', n_components=150, random_state=None,\n",
       "    svd_solver='auto', tol=0.0, whiten=False)"
      ]
     },
     "execution_count": 147,
     "metadata": {
      "tags": []
     },
     "output_type": "execute_result"
    }
   ],
   "source": [
    "pca=PCA(n_components=150)\n",
    "pca.fit(data)"
   ]
  },
  {
   "cell_type": "code",
   "execution_count": null,
   "metadata": {
    "id": "_Qn_yDHcw9l4"
   },
   "outputs": [],
   "source": [
    "x_train=pca.transform(data)"
   ]
  },
  {
   "cell_type": "code",
   "execution_count": null,
   "metadata": {
    "id": "VO_YFB4ZxXp-"
   },
   "outputs": [],
   "source": [
    "y_train=np.array(y_train)\n",
    "y_train=y_train[:408]"
   ]
  },
  {
   "cell_type": "code",
   "execution_count": null,
   "metadata": {
    "colab": {
     "base_uri": "https://localhost:8080/"
    },
    "executionInfo": {
     "elapsed": 408,
     "status": "ok",
     "timestamp": 1621883304232,
     "user": {
      "displayName": "Ruchira S Dwivedi",
      "photoUrl": "",
      "userId": "08004570390284030604"
     },
     "user_tz": -330
    },
    "id": "TceTfw9fxaG6",
    "outputId": "c5db3171-159b-41cd-f887-c693fe462f72"
   },
   "outputs": [
    {
     "name": "stdout",
     "output_type": "stream",
     "text": [
      "(408, 150)\n",
      "(408,)\n"
     ]
    }
   ],
   "source": [
    "print(x_train.shape)\n",
    "print(y_train.shape)"
   ]
  },
  {
   "cell_type": "markdown",
   "metadata": {
    "id": "WadI_TrhG6qQ"
   },
   "source": [
    "## **Step 7- Build an SVM classifier in order to map each image to its right person.**"
   ]
  },
  {
   "cell_type": "code",
   "execution_count": null,
   "metadata": {
    "id": "_sFHXokNySMk"
   },
   "outputs": [],
   "source": [
    "from sklearn.svm import SVC\n",
    "from sklearn.model_selection import GridSearchCV"
   ]
  },
  {
   "cell_type": "code",
   "execution_count": null,
   "metadata": {
    "colab": {
     "base_uri": "https://localhost:8080/"
    },
    "executionInfo": {
     "elapsed": 8000,
     "status": "ok",
     "timestamp": 1621883526761,
     "user": {
      "displayName": "Ruchira S Dwivedi",
      "photoUrl": "",
      "userId": "08004570390284030604"
     },
     "user_tz": -330
    },
    "id": "t5ATQh3gxzVu",
    "outputId": "9fc0bf6a-556f-4cc5-f6f2-75066e841c4e"
   },
   "outputs": [
    {
     "name": "stdout",
     "output_type": "stream",
     "text": [
      "{'C': 0.1, 'gamma': 10, 'kernel': 'linear'}\n"
     ]
    }
   ],
   "source": [
    "param_grid = {'C': [0.1, 1, 10, 100],\n",
    "             'kernel':['linear','rbf','poly','sigmoid'],\n",
    "             'gamma':[10,1, 0.1, 0.01, 0.001]}\n",
    "\n",
    "grid = GridSearchCV(SVC(), param_grid)\n",
    "\n",
    "grid.fit(x_train, y_train)\n",
    "print(grid.best_params_)\n"
   ]
  },
  {
   "cell_type": "code",
   "execution_count": null,
   "metadata": {
    "id": "EC2to22tyoMg"
   },
   "outputs": [],
   "source": [
    "SVM_Model = grid.best_estimator_"
   ]
  },
  {
   "cell_type": "markdown",
   "metadata": {
    "id": "299kq8wYG6wF"
   },
   "source": [
    "## **Step 8- Import the the test image. Display the image. Use the SVM trained model to predict the face.**"
   ]
  },
  {
   "cell_type": "code",
   "execution_count": 7,
   "metadata": {
    "executionInfo": {
     "elapsed": 410,
     "status": "ok",
     "timestamp": 1622907503453,
     "user": {
      "displayName": "Ruchira S Dwivedi",
      "photoUrl": "",
      "userId": "08004570390284030604"
     },
     "user_tz": -330
    },
    "id": "8Groet02zGKY"
   },
   "outputs": [],
   "source": [
    "path=\"/content/pins/PINS/pins_Amanda Crew/Amanda Crew10.jpg\""
   ]
  },
  {
   "cell_type": "code",
   "execution_count": 15,
   "metadata": {
    "executionInfo": {
     "elapsed": 407,
     "status": "ok",
     "timestamp": 1622907701514,
     "user": {
      "displayName": "Ruchira S Dwivedi",
      "photoUrl": "",
      "userId": "08004570390284030604"
     },
     "user_tz": -330
    },
    "id": "VJLCDJSQzGOf"
   },
   "outputs": [],
   "source": [
    "img=image.load_img(path, target_size=(224,224))\n",
    "x = image.img_to_array(img)\n",
    "x = np.expand_dims(x, axis=0)\n",
    "x = utils.preprocess_input(x, version=1)"
   ]
  },
  {
   "cell_type": "code",
   "execution_count": null,
   "metadata": {
    "id": "bfQbe80P0Nd8"
   },
   "outputs": [],
   "source": [
    "Test_embedding=vgg_features(x)\n",
    "#Test_embedding"
   ]
  },
  {
   "cell_type": "code",
   "execution_count": null,
   "metadata": {
    "id": "HZk6azeD0ep5"
   },
   "outputs": [],
   "source": [
    "pca_embedding=pca.transform(Test_embedding)"
   ]
  },
  {
   "cell_type": "code",
   "execution_count": null,
   "metadata": {
    "id": "v3t7f08sy0K6"
   },
   "outputs": [],
   "source": [
    "y_predict = SVM_Model.predict(pca_embedding)"
   ]
  },
  {
   "cell_type": "code",
   "execution_count": null,
   "metadata": {
    "colab": {
     "base_uri": "https://localhost:8080/"
    },
    "executionInfo": {
     "elapsed": 462,
     "status": "ok",
     "timestamp": 1621884239145,
     "user": {
      "displayName": "Ruchira S Dwivedi",
      "photoUrl": "",
      "userId": "08004570390284030604"
     },
     "user_tz": -330
    },
    "id": "S9ejs8dQ0ujf",
    "outputId": "21d6cf40-1235-4e94-9258-c0684d495110"
   },
   "outputs": [
    {
     "data": {
      "text/plain": [
       "array([2])"
      ]
     },
     "execution_count": 181,
     "metadata": {
      "tags": []
     },
     "output_type": "execute_result"
    }
   ],
   "source": [
    "y_predict\n"
   ]
  },
  {
   "cell_type": "code",
   "execution_count": null,
   "metadata": {
    "colab": {
     "base_uri": "https://localhost:8080/"
    },
    "executionInfo": {
     "elapsed": 347,
     "status": "ok",
     "timestamp": 1621884278472,
     "user": {
      "displayName": "Ruchira S Dwivedi",
      "photoUrl": "",
      "userId": "08004570390284030604"
     },
     "user_tz": -330
    },
    "id": "wevwmAb01YHG",
    "outputId": "f2a272c0-9d89-4504-96f4-d1ec9c148931"
   },
   "outputs": [
    {
     "name": "stderr",
     "output_type": "stream",
     "text": [
      "/usr/local/lib/python3.7/dist-packages/ipykernel_launcher.py:1: DeprecationWarning: np.asscalar(a) is deprecated since NumPy v1.16, use a.item() instead\n",
      "  \"\"\"Entry point for launching an IPython kernel.\n"
     ]
    },
    {
     "data": {
      "text/plain": [
       "2"
      ]
     },
     "execution_count": 184,
     "metadata": {
      "tags": []
     },
     "output_type": "execute_result"
    }
   ],
   "source": [
    "x=np.asscalar(y_predict)\n",
    "x"
   ]
  },
  {
   "cell_type": "code",
   "execution_count": null,
   "metadata": {
    "colab": {
     "base_uri": "https://localhost:8080/",
     "height": 35
    },
    "executionInfo": {
     "elapsed": 19,
     "status": "ok",
     "timestamp": 1621884283693,
     "user": {
      "displayName": "Ruchira S Dwivedi",
      "photoUrl": "",
      "userId": "08004570390284030604"
     },
     "user_tz": -330
    },
    "id": "97quEFQJ0vp6",
    "outputId": "8aadd31d-830b-4149-ba73-885017aae9b7"
   },
   "outputs": [
    {
     "data": {
      "application/vnd.google.colaboratory.intrinsic+json": {
       "type": "string"
      },
      "text/plain": [
       "'Amanda Crew'"
      ]
     },
     "execution_count": 185,
     "metadata": {
      "tags": []
     },
     "output_type": "execute_result"
    }
   ],
   "source": [
    "Labels[x]"
   ]
  },
  {
   "cell_type": "code",
   "execution_count": 16,
   "metadata": {
    "colab": {
     "base_uri": "https://localhost:8080/",
     "height": 286
    },
    "executionInfo": {
     "elapsed": 915,
     "status": "ok",
     "timestamp": 1622907733556,
     "user": {
      "displayName": "Ruchira S Dwivedi",
      "photoUrl": "",
      "userId": "08004570390284030604"
     },
     "user_tz": -330
    },
    "id": "2DMXkf651BkR",
    "outputId": "5503c969-90cb-4a24-8758-7f95474ccda3"
   },
   "outputs": [
    {
     "data": {
      "text/plain": [
       "<matplotlib.image.AxesImage at 0x7f104a3bf4d0>"
      ]
     },
     "execution_count": 16,
     "metadata": {
      "tags": []
     },
     "output_type": "execute_result"
    },
    {
     "data": {
      "image/png": "[encoded data removed]",
      "text/plain": [
       "<Figure size 432x288 with 1 Axes>"
      ]
     },
     "metadata": {
      "needs_background": "light",
      "tags": []
     },
     "output_type": "display_data"
    }
   ],
   "source": [
    "plt.imshow(img)"
   ]
  },
  {
   "cell_type": "code",
   "execution_count": null,
   "metadata": {
    "id": "oe3p2C5R07cE"
   },
   "outputs": [],
   "source": []
  }
 ],
 "metadata": {
  "accelerator": "GPU",
  "colab": {
   "authorship_tag": "ABX9TyMsYX+jhNtOXUJfqpi0NLkO",
   "collapsed_sections": [],
   "name": "Ruchira Sharma - CNN Project 2 - Part 2.ipynb",
   "provenance": [],
   "toc_visible": true
  },
  "kernelspec": {
   "display_name": "Python 3",
   "language": "python",
   "name": "python3"
  },
  "language_info": {
   "codemirror_mode": {
    "name": "ipython",
    "version": 3
   },
   "file_extension": ".py",
   "mimetype": "text/x-python",
   "name": "python",
   "nbconvert_exporter": "python",
   "pygments_lexer": "ipython3",
   "version": "3.8.3"
  }
 },
 "nbformat": 4,
 "nbformat_minor": 1
}
